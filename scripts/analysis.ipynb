{
 "cells": [
  {
   "cell_type": "markdown",
   "metadata": {},
   "source": [
    "\n",
    "\n",
    "<img src=\"../imgs/IPD_table.JPG\">\n",
    "\n",
    "Github like [here](https://github.com/PacificBiosciences/kineticsTools/blob/master/doc/manual.rst)"
   ]
  },
  {
   "cell_type": "code",
   "execution_count": 225,
   "metadata": {},
   "outputs": [],
   "source": [
    "import numpy as np\n",
    "import pandas as pd\n",
    "import matplotlib.pyplot as plt\n",
    "import plotly.graph_objects as go\n",
    "from hmmlearn import hmm\n",
    "import stumpy"
   ]
  },
  {
   "cell_type": "code",
   "execution_count": 3,
   "metadata": {},
   "outputs": [],
   "source": [
    "df = pd.read_csv(\"../data/ipd/3_scaffold1.bam.ipd\")"
   ]
  },
  {
   "cell_type": "code",
   "execution_count": 18,
   "metadata": {},
   "outputs": [
    {
     "data": {
      "text/html": [
       "<div>\n",
       "<style scoped>\n",
       "    .dataframe tbody tr th:only-of-type {\n",
       "        vertical-align: middle;\n",
       "    }\n",
       "\n",
       "    .dataframe tbody tr th {\n",
       "        vertical-align: top;\n",
       "    }\n",
       "\n",
       "    .dataframe thead th {\n",
       "        text-align: right;\n",
       "    }\n",
       "</style>\n",
       "<table border=\"1\" class=\"dataframe\">\n",
       "  <thead>\n",
       "    <tr style=\"text-align: right;\">\n",
       "      <th></th>\n",
       "      <th>refName</th>\n",
       "      <th>tpl</th>\n",
       "      <th>strand</th>\n",
       "      <th>base</th>\n",
       "      <th>score</th>\n",
       "      <th>tMean</th>\n",
       "      <th>tErr</th>\n",
       "      <th>modelPrediction</th>\n",
       "      <th>ipdRatio</th>\n",
       "      <th>coverage</th>\n",
       "      <th>frac</th>\n",
       "      <th>fracLow</th>\n",
       "      <th>fracUp</th>\n",
       "    </tr>\n",
       "  </thead>\n",
       "  <tbody>\n",
       "    <tr>\n",
       "      <th>41</th>\n",
       "      <td>3_scaffold1</td>\n",
       "      <td>21</td>\n",
       "      <td>1</td>\n",
       "      <td>C</td>\n",
       "      <td>28</td>\n",
       "      <td>1.885</td>\n",
       "      <td>0.230</td>\n",
       "      <td>1.096</td>\n",
       "      <td>1.720</td>\n",
       "      <td>84</td>\n",
       "      <td>0.500</td>\n",
       "      <td>0.197</td>\n",
       "      <td>0.794</td>\n",
       "    </tr>\n",
       "    <tr>\n",
       "      <th>44</th>\n",
       "      <td>3_scaffold1</td>\n",
       "      <td>23</td>\n",
       "      <td>0</td>\n",
       "      <td>C</td>\n",
       "      <td>16</td>\n",
       "      <td>1.432</td>\n",
       "      <td>0.277</td>\n",
       "      <td>0.848</td>\n",
       "      <td>1.689</td>\n",
       "      <td>54</td>\n",
       "      <td>0.456</td>\n",
       "      <td>0.026</td>\n",
       "      <td>0.828</td>\n",
       "    </tr>\n",
       "    <tr>\n",
       "      <th>87</th>\n",
       "      <td>3_scaffold1</td>\n",
       "      <td>44</td>\n",
       "      <td>1</td>\n",
       "      <td>C</td>\n",
       "      <td>24</td>\n",
       "      <td>1.311</td>\n",
       "      <td>0.192</td>\n",
       "      <td>0.754</td>\n",
       "      <td>1.738</td>\n",
       "      <td>103</td>\n",
       "      <td>0.785</td>\n",
       "      <td>0.315</td>\n",
       "      <td>1.000</td>\n",
       "    </tr>\n",
       "    <tr>\n",
       "      <th>111</th>\n",
       "      <td>3_scaffold1</td>\n",
       "      <td>56</td>\n",
       "      <td>1</td>\n",
       "      <td>C</td>\n",
       "      <td>11</td>\n",
       "      <td>0.769</td>\n",
       "      <td>0.084</td>\n",
       "      <td>0.630</td>\n",
       "      <td>1.221</td>\n",
       "      <td>108</td>\n",
       "      <td>0.817</td>\n",
       "      <td>0.444</td>\n",
       "      <td>1.000</td>\n",
       "    </tr>\n",
       "    <tr>\n",
       "      <th>139</th>\n",
       "      <td>3_scaffold1</td>\n",
       "      <td>70</td>\n",
       "      <td>1</td>\n",
       "      <td>C</td>\n",
       "      <td>51</td>\n",
       "      <td>3.234</td>\n",
       "      <td>0.342</td>\n",
       "      <td>1.495</td>\n",
       "      <td>2.163</td>\n",
       "      <td>95</td>\n",
       "      <td>1.000</td>\n",
       "      <td>0.969</td>\n",
       "      <td>1.000</td>\n",
       "    </tr>\n",
       "  </tbody>\n",
       "</table>\n",
       "</div>"
      ],
      "text/plain": [
       "         refName  tpl  strand base  score  tMean   tErr  modelPrediction  \\\n",
       "41   3_scaffold1   21       1    C     28  1.885  0.230            1.096   \n",
       "44   3_scaffold1   23       0    C     16  1.432  0.277            0.848   \n",
       "87   3_scaffold1   44       1    C     24  1.311  0.192            0.754   \n",
       "111  3_scaffold1   56       1    C     11  0.769  0.084            0.630   \n",
       "139  3_scaffold1   70       1    C     51  3.234  0.342            1.495   \n",
       "\n",
       "     ipdRatio  coverage   frac  fracLow  fracUp  \n",
       "41      1.720        84  0.500    0.197   0.794  \n",
       "44      1.689        54  0.456    0.026   0.828  \n",
       "87      1.738       103  0.785    0.315   1.000  \n",
       "111     1.221       108  0.817    0.444   1.000  \n",
       "139     2.163        95  1.000    0.969   1.000  "
      ]
     },
     "execution_count": 18,
     "metadata": {},
     "output_type": "execute_result"
    }
   ],
   "source": [
    "# Finding where the first predicted methylation value is\n",
    "df[pd.notnull(df.frac)].head()"
   ]
  },
  {
   "cell_type": "code",
   "execution_count": 38,
   "metadata": {},
   "outputs": [],
   "source": [
    "# Creating a copy of the data and filling nulls with 0\n",
    "DF_E = df.copy()\n",
    "DF_E[[\"frac\", \"fracLow\", \"fracUp\"]] = DF_E[[\"frac\", \"fracLow\", \"fracUp\"]].fillna(0)"
   ]
  },
  {
   "cell_type": "code",
   "execution_count": 53,
   "metadata": {},
   "outputs": [],
   "source": [
    "POSITIVE_DF = DF_E[DF_E[\"strand\"] == 1]\n",
    "NEGATIVE_DF = DF_E[DF_E[\"strand\"] == 0]"
   ]
  },
  {
   "cell_type": "code",
   "execution_count": 54,
   "metadata": {},
   "outputs": [
    {
     "name": "stderr",
     "output_type": "stream",
     "text": [
      "<ipython-input-54-d0ecc0b43c10>:9: SettingWithCopyWarning: \n",
      "A value is trying to be set on a copy of a slice from a DataFrame.\n",
      "Try using .loc[row_indexer,col_indexer] = value instead\n",
      "\n",
      "See the caveats in the documentation: https://pandas.pydata.org/pandas-docs/stable/user_guide/indexing.html#returning-a-view-versus-a-copy\n",
      "  POSITIVE_DF['base'] = POSITIVE_DF['base'].apply(num_base_pairs)\n",
      "<ipython-input-54-d0ecc0b43c10>:10: SettingWithCopyWarning: \n",
      "A value is trying to be set on a copy of a slice from a DataFrame.\n",
      "Try using .loc[row_indexer,col_indexer] = value instead\n",
      "\n",
      "See the caveats in the documentation: https://pandas.pydata.org/pandas-docs/stable/user_guide/indexing.html#returning-a-view-versus-a-copy\n",
      "  NEGATIVE_DF['base'] = NEGATIVE_DF['base'].apply(num_base_pairs)\n"
     ]
    }
   ],
   "source": [
    "BASE_CONVERT_DICT = { 'A': 0, \"T\": 1, \"G\": 2, \"C\": 3}\n",
    "\n",
    "def num_base_pairs(base):\n",
    "    \"\"\"Converts Base Pairs to numbers w/ BASE_CONVERT_DICT = { 'A': 0, \"T\": 1, \"G\": 2, \"C\": 3}\"\"\"\n",
    "    # For ease when I rerun the cell\n",
    "    if type(base) == int:\n",
    "        return base\n",
    "    \n",
    "    return BASE_CONVERT_DICT[base]\n",
    "\n",
    "POSITIVE_DF['base'] = POSITIVE_DF['base'].apply(num_base_pairs)\n",
    "NEGATIVE_DF['base'] = NEGATIVE_DF['base'].apply(num_base_pairs)"
   ]
  },
  {
   "cell_type": "code",
   "execution_count": 337,
   "metadata": {},
   "outputs": [],
   "source": [
    "# Features to Include\n",
    "# tMean is the the untouched IPD Values. In the Documentation: tMean -> capped mean of normalized IPDs observed at this position\n",
    "# Base, tMean, frac\n",
    "M = 25 # for stumpy\n",
    "\n",
    "# Make this 2 dimentional for hmmlearn \n",
    "POSITIVE_STRAND = POSITIVE_DF[\"base\"].to_numpy().reshape((-1,1))\n",
    "POSITIVE_TMEAN = POSITIVE_DF[\"tMean\"].to_numpy().reshape((-1,1))\n",
    "POSITIVE_FRAC = POSITIVE_DF[\"frac\"].to_numpy().reshape((-1,1))\n",
    "\n",
    "NEGATIVE_STRAND = NEGATIVE_DF[\"base\"].to_numpy().reshape((-1,1))\n",
    "NEGATIVE_TMEAN = NEGATIVE_DF[\"tMean\"].to_numpy().reshape((-1,1))\n",
    "NEGATIVE_FRAC = NEGATIVE_DF[\"frac\"].to_numpy().reshape((-1,1))\n",
    "\n",
    "mp = stumpy.stump(POSITIVE_TMEAN.flatten(), M)\n",
    "POSITIVE_MP =  np.concatenate( [mp[:,0], np.array([0]*M) ]).reshape((-1,1))\n",
    "mp = stumpy.stump(NEGATIVE_TMEAN.flatten(), M)\n",
    "NEGATIVE_MP =  np.concatenate( [mp[:,0], np.array([0]*M) ]).reshape((-1,1))\n"
   ]
  },
  {
   "cell_type": "markdown",
   "metadata": {},
   "source": [
    "#### Exploring the Data ..."
   ]
  },
  {
   "cell_type": "code",
   "execution_count": 338,
   "metadata": {},
   "outputs": [
    {
     "data": {
      "application/vnd.plotly.v1+json": {
       "config": {
        "plotlyServerURL": "https://plot.ly"
       },
       "data": [
        {
         "mode": "lines",
         "name": "+IPDs",
         "type": "scatter",
         "y": [
          0.9,
          1.251,
          0.918,
          1.689,
          1.014,
          0.774,
          1.333,
          0.722,
          0.79,
          1.948,
          1.562,
          1.195,
          0.737,
          0.793,
          0.836,
          1.915,
          1.874,
          0.627,
          0.64,
          0.647,
          1.971,
          0.874,
          0.79,
          0.894,
          0.908,
          0.734,
          0.892,
          0.918,
          1.166,
          0.517,
          0.667,
          0.626,
          0.844,
          0.816,
          0.57,
          0.783,
          0.529,
          0.765,
          0.725,
          1.247,
          1.164,
          0.944,
          1.372,
          0.659,
          0.701,
          0.661,
          1.055,
          0.776,
          1.259,
          1.186,
          1.033,
          0.833,
          1.716,
          1.124,
          0.612,
          0.653,
          0.821,
          0.804,
          0.71,
          1.165,
          1.149,
          1.766,
          0.954,
          0.657,
          1.37,
          1.343,
          0.576,
          0.754,
          0.806,
          2.057,
          0.806,
          0.663,
          0.833,
          1.015,
          0.724,
          0.68,
          1.012,
          0.758,
          0.678,
          0.825,
          0.888,
          1.783,
          1.351,
          0.891,
          0.683,
          1.128,
          0.489,
          0.534,
          0.458,
          1.31,
          1.088,
          0.823,
          1.443,
          1.024,
          1.098,
          0.703,
          0.744,
          0.702,
          0.595,
          0.672,
          1.133,
          3.751,
          0.707,
          0.866,
          0.931,
          0.611,
          1.232,
          1.871,
          0.645,
          2.752,
          0.962,
          0.774,
          0.804,
          0.913,
          1.407,
          1.479,
          0.724,
          0.848,
          1.335,
          1.264,
          0.855,
          0.934,
          2.348,
          1.927,
          0.792,
          0.826,
          1.67,
          2.835,
          0.883,
          0.629,
          1.089,
          1.991,
          0.656,
          0.994,
          1.318,
          3.513,
          0.809,
          0.73,
          4.93,
          1.475,
          0.688,
          1.847,
          1.199,
          1.159,
          1.114,
          1.064,
          0.943,
          0.985,
          0.873,
          1.551,
          0.816,
          1.592,
          4.984,
          1.922,
          1.515,
          1.017,
          1.044,
          0.609,
          0.931,
          0.943,
          0.588,
          0.616,
          0.678,
          2.407,
          0.587,
          0.632,
          0.922,
          0.595,
          1.816,
          1.486,
          10.879,
          3.081,
          2.342,
          2.17,
          1.564,
          1.074,
          1.339,
          0.666,
          0.799,
          0.609,
          0.902,
          0.72,
          1.592,
          0.594,
          2.646,
          1.196,
          0.667,
          0.712,
          0.917,
          1.141,
          0.729,
          0.764,
          0.901,
          0.732,
          0.776,
          0.7,
          0.635,
          0.906,
          0.712,
          0.556,
          0.976,
          0.872,
          6.246,
          1.341,
          1.62,
          0.846,
          1.28,
          1.189,
          0.661,
          0.648,
          0.81,
          1.055,
          1.134,
          1.175,
          0.896,
          0.713,
          0.654,
          0.621,
          0.702,
          0.531,
          0.594,
          0.642,
          0.602,
          0.667,
          1.759,
          1.064,
          0.758,
          0.836,
          0.659,
          0.539,
          1.041,
          0.588,
          0.921,
          0.643,
          0.731,
          0.708,
          0.735,
          0.621,
          0.569,
          0.855,
          0.89,
          0.96,
          0.706,
          0.518,
          1.185,
          0.781,
          0.612,
          0.622,
          0.502,
          0.449
         ]
        },
        {
         "mode": "lines",
         "name": "+Methylation",
         "type": "scatter",
         "y": [
          0,
          0,
          0,
          0.887,
          0,
          0,
          0,
          0,
          0,
          0,
          0,
          0,
          0,
          0,
          0,
          0,
          0,
          0,
          0,
          0,
          0,
          0,
          0,
          0,
          0,
          0,
          0,
          0,
          0,
          0,
          0,
          0,
          0,
          0,
          0,
          0,
          0,
          0,
          0,
          0,
          0,
          0,
          0,
          0,
          0,
          0,
          0,
          0,
          0,
          0,
          0,
          0,
          0,
          0,
          0,
          0,
          0,
          0,
          0,
          0,
          0,
          0,
          0,
          0,
          0,
          0,
          0,
          0,
          0,
          0.458,
          0,
          0,
          0,
          0,
          0,
          0,
          0,
          0,
          0,
          0,
          0,
          0,
          0,
          0,
          0,
          0,
          0,
          0,
          0,
          0,
          0,
          0,
          0.238,
          0,
          0,
          0,
          0,
          0,
          0,
          0,
          0,
          0,
          0,
          0,
          0,
          0,
          0,
          0,
          0,
          0.767,
          0,
          0,
          0,
          0,
          0,
          0,
          0,
          0,
          0,
          0,
          0,
          0.871,
          0.825,
          0,
          0,
          0,
          0,
          0,
          0,
          0.629,
          0,
          0,
          0,
          0,
          0,
          0,
          0,
          0,
          0,
          0,
          0,
          0,
          0,
          0,
          0,
          0,
          0,
          0,
          0,
          0,
          0,
          0,
          0,
          0,
          0,
          0,
          0,
          0,
          0,
          0,
          0,
          0,
          0,
          0,
          0,
          0,
          0,
          0,
          0,
          0,
          0,
          0,
          0.418,
          0.472,
          0,
          0,
          0,
          0,
          0,
          0,
          0,
          0,
          0,
          0,
          0,
          0,
          0,
          0,
          0,
          0,
          0,
          0,
          0,
          0,
          0,
          0,
          0,
          0,
          0,
          0,
          0,
          0,
          0,
          0,
          0,
          0,
          0,
          0,
          0,
          0,
          0,
          0,
          0,
          0,
          0,
          0,
          0,
          0,
          0,
          0,
          0,
          0,
          0,
          0,
          0,
          0,
          0,
          0,
          0,
          0,
          0,
          0,
          0,
          0,
          0,
          0,
          0,
          0,
          0,
          0,
          0,
          0,
          0,
          0,
          0,
          0,
          0,
          0,
          0,
          0
         ]
        },
        {
         "mode": "lines",
         "name": "Stumpy",
         "type": "scatter",
         "y": [
          3.9565912340838594,
          3.7198971652929607,
          3.615700666824449,
          3.5856673728595245,
          3.3331525436404874,
          3.767965285050229,
          3.853390378386267,
          3.695517431874223,
          3.7693239193788175,
          3.819610073691028,
          3.05660374134476,
          2.983594884290479,
          2.6119721456638634,
          2.615560480099206,
          2.615959269500753,
          2.6484063985870154,
          3.033827410446246,
          2.4437138836114323,
          2.6937014263376167,
          2.6696260497221553,
          2.6535071747834555,
          3.4180101146317634,
          3.6708938427753757,
          3.652575703846509,
          3.4911787333175255,
          3.7317911379072513,
          3.7506507380344187,
          3.741909065751338,
          3.5703332673007773,
          3.501227300087482,
          3.6424013306425804,
          3.597685168094078,
          3.2718832956896313,
          3.1365490987518987,
          3.4185818152768994,
          3.444939751130147,
          3.5719146615508603,
          3.5758079572018686,
          3.610447608687234,
          3.808677852137399,
          3.5441161929878624,
          3.822104352303409,
          3.8755648680358212,
          3.5261523844271228,
          3.493097437879313,
          3.139395771039421,
          3.342123589312519,
          3.2661333682218814,
          3.2199435786334867,
          3.6062315897209642,
          3.599672320901185,
          3.5771057268978472,
          3.487509660916376,
          2.9609696652321005,
          2.7705990057291885,
          2.7733074563872107,
          2.7321605057861444,
          3.252368001506002,
          3.4839036130847405,
          3.3933395719237858,
          3.277685400812294,
          3.291545894342687,
          3.490850991601499,
          3.4914951630579663,
          3.4609677990173906,
          3.3259584825115436,
          3.2460255106592766,
          3.0490455163418835,
          3.1611771292030073,
          3.2050608668405736,
          3.708398070420789,
          3.6665894724322885,
          3.400594036566176,
          3.6028457623899093,
          3.5687411968018434,
          3.6552888134750363,
          3.6832514572861306,
          2.0660702072097457,
          2.280470399439484,
          2.1091373755453433,
          2.1058686255976444,
          2.1561438932127723,
          2.045981286828441,
          2.004047091053996,
          1.9893863559111085,
          2.5039673475820146,
          2.480227900321045,
          2.2317731044529157,
          2.636835183802705,
          2.6213951469566914,
          2.5603987497367307,
          2.658355607911502,
          2.5621892419968333,
          2.364931042867693,
          2.521166994810892,
          2.4855460766435002,
          2.544542401080849,
          2.5663707180622364,
          2.9251854851476136,
          2.9240842586663964,
          3.0539777637618455,
          3.073336063683732,
          3.0966859239096762,
          3.2544285305606957,
          2.935291168153484,
          3.2039905288559423,
          3.2576289130682414,
          3.419128016413427,
          3.4513909826531335,
          3.390772726850012,
          3.147384568755835,
          3.2431682163595497,
          3.3643792701723725,
          3.3317257483123006,
          2.650698299025215,
          2.6360682540230083,
          2.617965135050123,
          2.724877992921926,
          2.8337392791813696,
          2.8470659120692856,
          2.832028744863559,
          2.871993281144906,
          2.869841286732258,
          2.469278660068305,
          2.3723919652789975,
          2.4346912070895983,
          2.214147021290681,
          2.258787931088926,
          2.5336571418039537,
          2.5278335477479907,
          2.5308357970259383,
          2.629742644791565,
          2.626275385523127,
          2.6226678588021053,
          2.135047766354435,
          2.3502499762484206,
          1.9114657076072674,
          1.967806306066622,
          1.842051998217479,
          2.2559979762222127,
          2.23241764355568,
          2.231034527749312,
          1.9572188243167985,
          1.941469815736805,
          2.0195242334124672,
          2.083687958022522,
          1.5270170013956539,
          1.596087664628891,
          1.5979815162909157,
          1.6573015237028135,
          1.6480647589897628,
          1.4649920441001245,
          1.424540147192662,
          1.2402172308742205,
          1.1763899021891944,
          1.1726088133448302,
          1.172917453692671,
          1.1790253892155356,
          1.163959774967258,
          1.166078420744777,
          1.4133095672808802,
          1.4601023588156767,
          1.4862575587013918,
          1.5065299253035154,
          1.2802372174635246,
          1.2833043796648602,
          1.2844858135656274,
          1.3707166224675904,
          1.3452114811251563,
          1.286308101820328,
          1.0899449271278938,
          3.028337273205446,
          3.1946445618881634,
          2.675328077043605,
          2.4918067605801366,
          2.385995440636211,
          2.3516190047827634,
          2.2083762075348496,
          1.5270170013956539,
          1.561756274107712,
          1.5979815162909157,
          1.6250946327332105,
          1.6480647589897628,
          1.4649920441001245,
          1.424540147192662,
          0.9021670661316538,
          0.9313086253115267,
          0.9766206538743032,
          0.9793450481720309,
          1.016527950461925,
          1.006370842340484,
          1.0143291131034737,
          1.0226637777249519,
          1.0284228912247546,
          1.05213656900215,
          1.0581152783378431,
          1.0563006176527479,
          1.0493308759185493,
          0.99032187063019,
          0.9920136239518528,
          1.2885551493186314,
          1.2617668205100234,
          1.2388280917402243,
          3.28627998273483,
          2.841446474492293,
          3.2741255840334182,
          3.182429925982931,
          3.2317087118274843,
          2.9606425813012978,
          2.985781332098797,
          2.995811767693832,
          2.9684430312940524,
          2.7291829761147235,
          2.2327760422458574,
          2.209209745399841,
          2.23652823319339,
          2.3181159258741113,
          2.5429042869768583,
          2.5522343142325177,
          2.6980077778554357,
          2.845745046171241,
          2.8349806832242392,
          2.828344987457721,
          2.8203143340195793,
          2.9095834454571388,
          3.47164413762223,
          3.1195923112218535,
          2.979072410523211,
          3.0767819888360557,
          3.6631939597046648,
          3.670429785692378,
          3.5518857987636383,
          3.478311290935868,
          3.299170283596432,
          3.7248913301594317,
          3.664858398874319,
          3.711243515608019,
          3.826764927759763,
          3.93568020146211,
          4.0907713661638345,
          4.080724406863139,
          3.727849495662701,
          3.7196008609783946,
          3.80416529681625,
          3.7342333210559255,
          3.4681710160785806,
          3.3725603722655233,
          3.696574794354292,
          3.062994600474763,
          3.337886933887186
         ]
        }
       ],
       "layout": {
        "template": {
         "data": {
          "bar": [
           {
            "error_x": {
             "color": "#2a3f5f"
            },
            "error_y": {
             "color": "#2a3f5f"
            },
            "marker": {
             "line": {
              "color": "#E5ECF6",
              "width": 0.5
             },
             "pattern": {
              "fillmode": "overlay",
              "size": 10,
              "solidity": 0.2
             }
            },
            "type": "bar"
           }
          ],
          "barpolar": [
           {
            "marker": {
             "line": {
              "color": "#E5ECF6",
              "width": 0.5
             },
             "pattern": {
              "fillmode": "overlay",
              "size": 10,
              "solidity": 0.2
             }
            },
            "type": "barpolar"
           }
          ],
          "carpet": [
           {
            "aaxis": {
             "endlinecolor": "#2a3f5f",
             "gridcolor": "white",
             "linecolor": "white",
             "minorgridcolor": "white",
             "startlinecolor": "#2a3f5f"
            },
            "baxis": {
             "endlinecolor": "#2a3f5f",
             "gridcolor": "white",
             "linecolor": "white",
             "minorgridcolor": "white",
             "startlinecolor": "#2a3f5f"
            },
            "type": "carpet"
           }
          ],
          "choropleth": [
           {
            "colorbar": {
             "outlinewidth": 0,
             "ticks": ""
            },
            "type": "choropleth"
           }
          ],
          "contour": [
           {
            "colorbar": {
             "outlinewidth": 0,
             "ticks": ""
            },
            "colorscale": [
             [
              0,
              "#0d0887"
             ],
             [
              0.1111111111111111,
              "#46039f"
             ],
             [
              0.2222222222222222,
              "#7201a8"
             ],
             [
              0.3333333333333333,
              "#9c179e"
             ],
             [
              0.4444444444444444,
              "#bd3786"
             ],
             [
              0.5555555555555556,
              "#d8576b"
             ],
             [
              0.6666666666666666,
              "#ed7953"
             ],
             [
              0.7777777777777778,
              "#fb9f3a"
             ],
             [
              0.8888888888888888,
              "#fdca26"
             ],
             [
              1,
              "#f0f921"
             ]
            ],
            "type": "contour"
           }
          ],
          "contourcarpet": [
           {
            "colorbar": {
             "outlinewidth": 0,
             "ticks": ""
            },
            "type": "contourcarpet"
           }
          ],
          "heatmap": [
           {
            "colorbar": {
             "outlinewidth": 0,
             "ticks": ""
            },
            "colorscale": [
             [
              0,
              "#0d0887"
             ],
             [
              0.1111111111111111,
              "#46039f"
             ],
             [
              0.2222222222222222,
              "#7201a8"
             ],
             [
              0.3333333333333333,
              "#9c179e"
             ],
             [
              0.4444444444444444,
              "#bd3786"
             ],
             [
              0.5555555555555556,
              "#d8576b"
             ],
             [
              0.6666666666666666,
              "#ed7953"
             ],
             [
              0.7777777777777778,
              "#fb9f3a"
             ],
             [
              0.8888888888888888,
              "#fdca26"
             ],
             [
              1,
              "#f0f921"
             ]
            ],
            "type": "heatmap"
           }
          ],
          "heatmapgl": [
           {
            "colorbar": {
             "outlinewidth": 0,
             "ticks": ""
            },
            "colorscale": [
             [
              0,
              "#0d0887"
             ],
             [
              0.1111111111111111,
              "#46039f"
             ],
             [
              0.2222222222222222,
              "#7201a8"
             ],
             [
              0.3333333333333333,
              "#9c179e"
             ],
             [
              0.4444444444444444,
              "#bd3786"
             ],
             [
              0.5555555555555556,
              "#d8576b"
             ],
             [
              0.6666666666666666,
              "#ed7953"
             ],
             [
              0.7777777777777778,
              "#fb9f3a"
             ],
             [
              0.8888888888888888,
              "#fdca26"
             ],
             [
              1,
              "#f0f921"
             ]
            ],
            "type": "heatmapgl"
           }
          ],
          "histogram": [
           {
            "marker": {
             "pattern": {
              "fillmode": "overlay",
              "size": 10,
              "solidity": 0.2
             }
            },
            "type": "histogram"
           }
          ],
          "histogram2d": [
           {
            "colorbar": {
             "outlinewidth": 0,
             "ticks": ""
            },
            "colorscale": [
             [
              0,
              "#0d0887"
             ],
             [
              0.1111111111111111,
              "#46039f"
             ],
             [
              0.2222222222222222,
              "#7201a8"
             ],
             [
              0.3333333333333333,
              "#9c179e"
             ],
             [
              0.4444444444444444,
              "#bd3786"
             ],
             [
              0.5555555555555556,
              "#d8576b"
             ],
             [
              0.6666666666666666,
              "#ed7953"
             ],
             [
              0.7777777777777778,
              "#fb9f3a"
             ],
             [
              0.8888888888888888,
              "#fdca26"
             ],
             [
              1,
              "#f0f921"
             ]
            ],
            "type": "histogram2d"
           }
          ],
          "histogram2dcontour": [
           {
            "colorbar": {
             "outlinewidth": 0,
             "ticks": ""
            },
            "colorscale": [
             [
              0,
              "#0d0887"
             ],
             [
              0.1111111111111111,
              "#46039f"
             ],
             [
              0.2222222222222222,
              "#7201a8"
             ],
             [
              0.3333333333333333,
              "#9c179e"
             ],
             [
              0.4444444444444444,
              "#bd3786"
             ],
             [
              0.5555555555555556,
              "#d8576b"
             ],
             [
              0.6666666666666666,
              "#ed7953"
             ],
             [
              0.7777777777777778,
              "#fb9f3a"
             ],
             [
              0.8888888888888888,
              "#fdca26"
             ],
             [
              1,
              "#f0f921"
             ]
            ],
            "type": "histogram2dcontour"
           }
          ],
          "mesh3d": [
           {
            "colorbar": {
             "outlinewidth": 0,
             "ticks": ""
            },
            "type": "mesh3d"
           }
          ],
          "parcoords": [
           {
            "line": {
             "colorbar": {
              "outlinewidth": 0,
              "ticks": ""
             }
            },
            "type": "parcoords"
           }
          ],
          "pie": [
           {
            "automargin": true,
            "type": "pie"
           }
          ],
          "scatter": [
           {
            "marker": {
             "colorbar": {
              "outlinewidth": 0,
              "ticks": ""
             }
            },
            "type": "scatter"
           }
          ],
          "scatter3d": [
           {
            "line": {
             "colorbar": {
              "outlinewidth": 0,
              "ticks": ""
             }
            },
            "marker": {
             "colorbar": {
              "outlinewidth": 0,
              "ticks": ""
             }
            },
            "type": "scatter3d"
           }
          ],
          "scattercarpet": [
           {
            "marker": {
             "colorbar": {
              "outlinewidth": 0,
              "ticks": ""
             }
            },
            "type": "scattercarpet"
           }
          ],
          "scattergeo": [
           {
            "marker": {
             "colorbar": {
              "outlinewidth": 0,
              "ticks": ""
             }
            },
            "type": "scattergeo"
           }
          ],
          "scattergl": [
           {
            "marker": {
             "colorbar": {
              "outlinewidth": 0,
              "ticks": ""
             }
            },
            "type": "scattergl"
           }
          ],
          "scattermapbox": [
           {
            "marker": {
             "colorbar": {
              "outlinewidth": 0,
              "ticks": ""
             }
            },
            "type": "scattermapbox"
           }
          ],
          "scatterpolar": [
           {
            "marker": {
             "colorbar": {
              "outlinewidth": 0,
              "ticks": ""
             }
            },
            "type": "scatterpolar"
           }
          ],
          "scatterpolargl": [
           {
            "marker": {
             "colorbar": {
              "outlinewidth": 0,
              "ticks": ""
             }
            },
            "type": "scatterpolargl"
           }
          ],
          "scatterternary": [
           {
            "marker": {
             "colorbar": {
              "outlinewidth": 0,
              "ticks": ""
             }
            },
            "type": "scatterternary"
           }
          ],
          "surface": [
           {
            "colorbar": {
             "outlinewidth": 0,
             "ticks": ""
            },
            "colorscale": [
             [
              0,
              "#0d0887"
             ],
             [
              0.1111111111111111,
              "#46039f"
             ],
             [
              0.2222222222222222,
              "#7201a8"
             ],
             [
              0.3333333333333333,
              "#9c179e"
             ],
             [
              0.4444444444444444,
              "#bd3786"
             ],
             [
              0.5555555555555556,
              "#d8576b"
             ],
             [
              0.6666666666666666,
              "#ed7953"
             ],
             [
              0.7777777777777778,
              "#fb9f3a"
             ],
             [
              0.8888888888888888,
              "#fdca26"
             ],
             [
              1,
              "#f0f921"
             ]
            ],
            "type": "surface"
           }
          ],
          "table": [
           {
            "cells": {
             "fill": {
              "color": "#EBF0F8"
             },
             "line": {
              "color": "white"
             }
            },
            "header": {
             "fill": {
              "color": "#C8D4E3"
             },
             "line": {
              "color": "white"
             }
            },
            "type": "table"
           }
          ]
         },
         "layout": {
          "annotationdefaults": {
           "arrowcolor": "#2a3f5f",
           "arrowhead": 0,
           "arrowwidth": 1
          },
          "autotypenumbers": "strict",
          "coloraxis": {
           "colorbar": {
            "outlinewidth": 0,
            "ticks": ""
           }
          },
          "colorscale": {
           "diverging": [
            [
             0,
             "#8e0152"
            ],
            [
             0.1,
             "#c51b7d"
            ],
            [
             0.2,
             "#de77ae"
            ],
            [
             0.3,
             "#f1b6da"
            ],
            [
             0.4,
             "#fde0ef"
            ],
            [
             0.5,
             "#f7f7f7"
            ],
            [
             0.6,
             "#e6f5d0"
            ],
            [
             0.7,
             "#b8e186"
            ],
            [
             0.8,
             "#7fbc41"
            ],
            [
             0.9,
             "#4d9221"
            ],
            [
             1,
             "#276419"
            ]
           ],
           "sequential": [
            [
             0,
             "#0d0887"
            ],
            [
             0.1111111111111111,
             "#46039f"
            ],
            [
             0.2222222222222222,
             "#7201a8"
            ],
            [
             0.3333333333333333,
             "#9c179e"
            ],
            [
             0.4444444444444444,
             "#bd3786"
            ],
            [
             0.5555555555555556,
             "#d8576b"
            ],
            [
             0.6666666666666666,
             "#ed7953"
            ],
            [
             0.7777777777777778,
             "#fb9f3a"
            ],
            [
             0.8888888888888888,
             "#fdca26"
            ],
            [
             1,
             "#f0f921"
            ]
           ],
           "sequentialminus": [
            [
             0,
             "#0d0887"
            ],
            [
             0.1111111111111111,
             "#46039f"
            ],
            [
             0.2222222222222222,
             "#7201a8"
            ],
            [
             0.3333333333333333,
             "#9c179e"
            ],
            [
             0.4444444444444444,
             "#bd3786"
            ],
            [
             0.5555555555555556,
             "#d8576b"
            ],
            [
             0.6666666666666666,
             "#ed7953"
            ],
            [
             0.7777777777777778,
             "#fb9f3a"
            ],
            [
             0.8888888888888888,
             "#fdca26"
            ],
            [
             1,
             "#f0f921"
            ]
           ]
          },
          "colorway": [
           "#636efa",
           "#EF553B",
           "#00cc96",
           "#ab63fa",
           "#FFA15A",
           "#19d3f3",
           "#FF6692",
           "#B6E880",
           "#FF97FF",
           "#FECB52"
          ],
          "font": {
           "color": "#2a3f5f"
          },
          "geo": {
           "bgcolor": "white",
           "lakecolor": "white",
           "landcolor": "#E5ECF6",
           "showlakes": true,
           "showland": true,
           "subunitcolor": "white"
          },
          "hoverlabel": {
           "align": "left"
          },
          "hovermode": "closest",
          "mapbox": {
           "style": "light"
          },
          "paper_bgcolor": "white",
          "plot_bgcolor": "#E5ECF6",
          "polar": {
           "angularaxis": {
            "gridcolor": "white",
            "linecolor": "white",
            "ticks": ""
           },
           "bgcolor": "#E5ECF6",
           "radialaxis": {
            "gridcolor": "white",
            "linecolor": "white",
            "ticks": ""
           }
          },
          "scene": {
           "xaxis": {
            "backgroundcolor": "#E5ECF6",
            "gridcolor": "white",
            "gridwidth": 2,
            "linecolor": "white",
            "showbackground": true,
            "ticks": "",
            "zerolinecolor": "white"
           },
           "yaxis": {
            "backgroundcolor": "#E5ECF6",
            "gridcolor": "white",
            "gridwidth": 2,
            "linecolor": "white",
            "showbackground": true,
            "ticks": "",
            "zerolinecolor": "white"
           },
           "zaxis": {
            "backgroundcolor": "#E5ECF6",
            "gridcolor": "white",
            "gridwidth": 2,
            "linecolor": "white",
            "showbackground": true,
            "ticks": "",
            "zerolinecolor": "white"
           }
          },
          "shapedefaults": {
           "line": {
            "color": "#2a3f5f"
           }
          },
          "ternary": {
           "aaxis": {
            "gridcolor": "white",
            "linecolor": "white",
            "ticks": ""
           },
           "baxis": {
            "gridcolor": "white",
            "linecolor": "white",
            "ticks": ""
           },
           "bgcolor": "#E5ECF6",
           "caxis": {
            "gridcolor": "white",
            "linecolor": "white",
            "ticks": ""
           }
          },
          "title": {
           "x": 0.05
          },
          "xaxis": {
           "automargin": true,
           "gridcolor": "white",
           "linecolor": "white",
           "ticks": "",
           "title": {
            "standoff": 15
           },
           "zerolinecolor": "white",
           "zerolinewidth": 2
          },
          "yaxis": {
           "automargin": true,
           "gridcolor": "white",
           "linecolor": "white",
           "ticks": "",
           "title": {
            "standoff": 15
           },
           "zerolinecolor": "white",
           "zerolinewidth": 2
          }
         }
        },
        "title": {
         "text": "For Positive Strand"
        },
        "xaxis": {
         "title": {
          "text": "Sequence Position"
         }
        },
        "yaxis": {
         "title": {
          "text": "IPD/Methylation Value"
         }
        }
       }
      }
     },
     "metadata": {},
     "output_type": "display_data"
    }
   ],
   "source": [
    "RANGE_START = 250\n",
    "RANGE_END = 500\n",
    "\n",
    "# Just exploring the data ...\n",
    "fig = go.Figure()\n",
    "fig.add_trace(go.Scatter(y=POSITIVE_TMEAN.flatten()[RANGE_START:RANGE_END],\n",
    "                    mode='lines',\n",
    "                    name='+IPDs'))\n",
    "fig.add_trace(go.Scatter(y=POSITIVE_FRAC.flatten()[RANGE_START:RANGE_END],\n",
    "                    mode='lines',\n",
    "                    name='+Methylation'))\n",
    "fig.add_trace(go.Scatter(y=POSITIVE_MP.flatten()[RANGE_START:RANGE_END],\n",
    "                    mode='lines',\n",
    "                    name='Stumpy'))\n",
    "\n",
    "\n",
    "fig.update_layout(\n",
    "    title=\"For Positive Strand\",\n",
    "    xaxis_title='Sequence Position',\n",
    "    yaxis_title='IPD/Methylation Value')\n",
    "fig.show()"
   ]
  },
  {
   "cell_type": "code",
   "execution_count": 340,
   "metadata": {},
   "outputs": [
    {
     "data": {
      "application/vnd.plotly.v1+json": {
       "config": {
        "plotlyServerURL": "https://plot.ly"
       },
       "data": [
        {
         "mode": "lines",
         "name": "-IPDs",
         "type": "scatter",
         "y": [
          0.693,
          1.106,
          0.576,
          1.401,
          3.031,
          0.999,
          0.72,
          0.922,
          1.428,
          1.063,
          1.809,
          0.911,
          0.754,
          2.638,
          1.365,
          0.962,
          0.537,
          0.824,
          0.837,
          0.701,
          0.475,
          1.214,
          0.649,
          0.73,
          0.876,
          1.01,
          0.98,
          0.644,
          0.778,
          0.653,
          0.788,
          1.403,
          5.811,
          1.251,
          1.08,
          1.211,
          1.712,
          0.532,
          0.819,
          0.831,
          0.869,
          1.541,
          0.642,
          0.865,
          1.066,
          0.632,
          0.6,
          0.574,
          0.611,
          0.554,
          0.639,
          1.664,
          0.811,
          0.513,
          0.899,
          0.657,
          1.16,
          0.412,
          0.859,
          0.628,
          0.805,
          0.628,
          0.902,
          0.652,
          0.579,
          1.095,
          1.112,
          0.602,
          0.967,
          1.866,
          1.033,
          1.12,
          0.599,
          0.98,
          1.079,
          1.318,
          2.964,
          0.558,
          0.749,
          0.69,
          0.617,
          0.439,
          0.333,
          1.954,
          1.006,
          1.259,
          0.624,
          1.721,
          0.786,
          0.596,
          0.694,
          0.514,
          0.612,
          1.192,
          0.61,
          0.847,
          2.254,
          0.844,
          0.685,
          0.49,
          1.155,
          0.798,
          0.564,
          1.083,
          0.613,
          0.933,
          1.077,
          1.081,
          0.763,
          0.768,
          0.849,
          1.811,
          1.661,
          2.372,
          1.975,
          1.247,
          1.587,
          3.404,
          1.026,
          0.738,
          2.286,
          0.931,
          0.594,
          0.45,
          0.795,
          0.986,
          0.823,
          0.934,
          1.413,
          0.617,
          0.662,
          0.44,
          1.029,
          0.96,
          0.62,
          0.9,
          5.027,
          1.418,
          1.415,
          1.905,
          0.883,
          1.31,
          1.587,
          0.977,
          1.192,
          0.896,
          0.726,
          2.531,
          0.696,
          1.135,
          0.718,
          0.832,
          0.969,
          1.339,
          0.849,
          1.542,
          1.119,
          1.78,
          0.483,
          0.826,
          0.839,
          0.827,
          0.858,
          1.249,
          0.842,
          1.295,
          0.91,
          0.823,
          1.843,
          5.812,
          1.661,
          2.803,
          2.44,
          1.102,
          0.77,
          1.831,
          0.928,
          0.706,
          1.047,
          0.853,
          0.773,
          0.671,
          0.501,
          0.82,
          0.918,
          0.662,
          0.799,
          0.442,
          0.828,
          1.467,
          0.602,
          0.719,
          1.397,
          0.564,
          0.734,
          5.767,
          0.846,
          3.067,
          1.448,
          1.619,
          0.735,
          0.707,
          0.627,
          0.58,
          0.816,
          0.753,
          1.241,
          0.855,
          0.676,
          0.809,
          0.691,
          0.642,
          0.817,
          0.654,
          0.539,
          0.675,
          0.758,
          1.138,
          0.793,
          0.665,
          0.782,
          0.584,
          0.699,
          0.746,
          1.087,
          1.231,
          0.679,
          1.061,
          0.734,
          1.11,
          0.701,
          0.774,
          0.65,
          0.584,
          0.785,
          0.839,
          0.973,
          0.855,
          0.916,
          0.927,
          0.949,
          0.932,
          0.456,
          0.752,
          0.777,
          1.367,
          2.485,
          1.033,
          0.638,
          0.844
         ]
        },
        {
         "mode": "lines",
         "name": "-Methylation",
         "type": "scatter",
         "y": [
          0,
          0,
          0,
          0,
          0,
          0,
          0,
          0,
          0,
          0,
          0,
          0,
          0,
          0.634,
          0,
          0,
          0,
          0,
          0,
          0,
          0,
          0,
          0,
          0,
          0,
          0,
          0,
          0,
          0,
          0,
          0,
          0,
          0,
          0,
          0,
          0,
          0,
          0,
          0,
          0,
          0,
          0,
          0,
          0,
          0,
          0,
          0,
          0,
          0,
          0,
          0,
          0,
          0,
          0,
          0,
          0,
          0,
          0,
          0,
          0,
          0,
          0,
          0,
          0,
          0,
          0,
          0,
          0,
          0,
          0,
          0,
          0,
          0,
          0,
          0,
          0,
          0,
          0,
          0,
          0,
          0,
          0,
          0,
          0,
          0,
          0,
          0,
          0,
          0,
          0,
          0,
          0,
          0,
          0,
          0,
          0,
          0,
          0,
          0,
          0,
          0,
          0,
          0,
          0,
          0,
          0,
          0,
          0,
          0,
          0,
          0,
          0,
          0,
          0,
          0,
          0,
          0,
          0,
          0,
          0,
          0,
          0,
          0,
          0,
          0,
          0,
          0,
          0,
          0,
          0,
          0,
          0,
          0,
          0,
          0,
          0,
          0,
          0,
          0.457,
          0,
          0,
          0,
          0,
          0,
          0,
          0,
          0,
          0,
          0,
          0,
          0,
          0,
          0,
          0,
          0,
          0,
          0,
          0,
          0,
          0,
          0,
          0,
          0,
          0,
          0,
          0,
          0,
          0,
          0,
          0.972,
          0,
          0,
          0,
          0,
          0,
          0,
          0,
          0,
          0,
          0,
          0,
          0,
          0,
          0,
          0,
          0,
          0,
          0,
          0,
          0,
          0,
          0,
          0,
          0,
          0,
          0,
          0,
          0,
          0,
          0,
          0,
          0,
          0,
          0,
          0,
          0,
          0,
          0,
          0,
          0,
          0,
          0,
          0,
          0,
          0,
          0,
          0,
          0,
          0,
          0,
          0,
          0,
          0,
          0,
          0,
          0,
          0,
          0,
          0,
          0,
          0,
          0,
          0,
          0,
          0,
          0,
          0,
          0,
          0,
          0,
          0,
          0,
          0,
          0,
          0,
          0,
          0,
          0,
          0,
          0
         ]
        },
        {
         "mode": "lines",
         "name": "Stumpy",
         "type": "scatter",
         "y": [
          2.451747568550463,
          2.3438634972595587,
          2.3354738549577343,
          2.467194523969719,
          2.42421382011115,
          2.4281168258571384,
          2.4174263453374825,
          2.4055055718180904,
          1.5980703409337031,
          1.7868603381405561,
          1.8860480913877613,
          1.4937739504612655,
          1.6058566767556939,
          1.8866727148283167,
          1.244922527218501,
          1.1015577102659089,
          1.09180492208997,
          1.3000542745409485,
          1.3093127642826838,
          1.3078761780948818,
          1.309965441343238,
          1.284903780934789,
          1.3177209508208756,
          1.3277011367632174,
          1.345996739136648,
          1.3506099900744235,
          1.342592735812285,
          1.4833916609628341,
          1.4786043077551159,
          1.4934445151314797,
          1.4695577492131482,
          1.4726983131355575,
          1.4157317991709846,
          3.82000529122748,
          3.6099896571364396,
          3.6244654220348234,
          3.176003721158785,
          2.922839259283632,
          2.9401436897980737,
          2.823505152027199,
          2.8316840182587644,
          2.961190935520472,
          3.1353004554558876,
          3.2083001397140674,
          3.2108492225224263,
          2.910513793475111,
          2.952607278421009,
          2.9486123468456578,
          2.8087073958332907,
          2.784126888137812,
          2.8577106017571468,
          3.126732485705467,
          2.5631101785600783,
          2.5458414073753532,
          2.525696049023887,
          2.613140796613612,
          2.6988979367213872,
          2.6142235283121305,
          2.4697862034019566,
          2.7459179265249736,
          2.7718724413961846,
          2.7491698290094595,
          2.730868306076296,
          2.655101002854844,
          2.6631444885523003,
          2.646546362868958,
          2.647408026702549,
          2.6333901325050326,
          2.6335072150934056,
          2.7507879405917257,
          2.2704935024176103,
          3.068873499288104,
          2.9495122861930607,
          2.9851405268204525,
          2.8284125606889043,
          2.795986193662326,
          2.8570456989897774,
          2.955351782299225,
          2.9531641194219973,
          3.05523332286421,
          3.028655524495284,
          3.1288236353397334,
          3.4016936926649723,
          3.273043037876602,
          3.003623936153151,
          2.7276349979391212,
          2.7466572700762817,
          3.2860594473101807,
          2.5653170509404264,
          2.4297988291856916,
          2.513146570865983,
          2.653294982616365,
          2.7919501867342422,
          2.8570800507935568,
          2.8310005328352563,
          2.949706506152464,
          3.4074109607447327,
          3.1109033530592893,
          3.04820702715379,
          3.0153994596045357,
          2.99229970530689,
          2.994498402558385,
          2.9075905391767245,
          2.705412031786103,
          2.674277675707437,
          2.6943739404656823,
          2.6705187090958775,
          2.9254946976839284,
          2.929824021268087,
          2.9797211323542254,
          3.022202098114011,
          3.103721054053233,
          2.7165023646710513,
          2.718939233724912,
          2.3535752743186933,
          2.505607086375465,
          2.4498255248575744,
          2.449130424011515,
          1.9086663446061978,
          1.9077842849147986,
          1.9231310910644026,
          1.8356234190517025,
          1.8507272364865441,
          1.971632337432053,
          1.8110349636849254,
          1.8465068553226798,
          1.853370269225096,
          1.7735432140907659,
          1.7769443743992397,
          1.710892756405253,
          1.724156787217951,
          1.6938407431741769,
          1.6152499994026024,
          1.853793054994071,
          1.9199069883808635,
          1.8581763747158295,
          1.854055926607404,
          3.2010146432288895,
          3.1844621740797163,
          3.161262654560729,
          2.952354125411066,
          3.365264821787326,
          3.224481137652558,
          3.1135246326735384,
          2.9985034339746046,
          1.8913263201931392,
          1.9308659393832952,
          1.635541574584552,
          1.957893122990308,
          1.9408274756787411,
          1.9665528096487432,
          2.06419595702507,
          2.0304887677788095,
          2.122625418717155,
          2.1367475350180665,
          2.1495737059046176,
          2.1024117181660773,
          2.0954097349099405,
          2.0219119401554777,
          1.9797066006198822,
          2.002272634121396,
          2.0041327063968173,
          2.0046408134966605,
          2.071722517338824,
          2.065413130250599,
          2.106816437831729,
          2.1434980819378033,
          2.124551414640885,
          2.0790272308165565,
          1.9892212012699046,
          2.3626237172856293,
          2.1251512956768073,
          1.7095018601651124,
          1.481306048688501,
          1.6849016369058767,
          1.7090853498220688,
          1.71302583907116,
          1.6798805184208412,
          1.6681604249413038,
          1.63797432281347,
          1.6243605330042024,
          1.5075274646201464,
          1.615018545269249,
          1.5669364286934355,
          1.567978131395334,
          1.5528004428085045,
          1.565048779996117,
          1.5627855700520572,
          1.54747766882372,
          1.627718095718455,
          1.5800286701335802,
          1.5158662384276929,
          1.445570535876894,
          1.4391900384333711,
          1.4218725520536137,
          1.5591238943574024,
          1.4567739907125756,
          1.3982491506204835,
          2.801298882453098,
          2.4318648177705016,
          3.050179420084059,
          2.949695328486103,
          3.020278299730825,
          3.2570168210231176,
          3.2590725780519496,
          3.4365107674715354,
          3.417108393338042,
          3.6570527278195275,
          3.5872432539324954,
          3.4980648459362302,
          3.464286043472316,
          3.4023360845863633,
          3.0723969551098467,
          3.39596613627759,
          3.442057184919215,
          3.586359098262584,
          3.6856177145975755,
          3.790667755806319,
          3.956023580945824,
          3.9101814659023395,
          4.032823464552978,
          3.8375848296653277,
          2.281859196267842,
          2.2807037128545757,
          2.3040471930343562,
          2.213580092255869,
          1.9275763529174545,
          1.9570508795757244,
          2.0508307526723826,
          2.0451535136128656,
          1.9381595054355654,
          2.055237886749125,
          2.0563978843288457,
          2.1420895801201967,
          2.1497019523220016,
          2.0247002101002116,
          2.0792914230342814,
          2.0573527726847756,
          2.0255461473724563,
          2.006842397988912,
          1.9607089642693019,
          1.9533221507083316,
          1.9686677057141477,
          1.7543937490761428,
          1.7445897244751645,
          2.01605206903404,
          1.9620514442213697,
          1.6246715002188274,
          1.5892401775452636,
          1.5890276426566037
         ]
        }
       ],
       "layout": {
        "template": {
         "data": {
          "bar": [
           {
            "error_x": {
             "color": "#2a3f5f"
            },
            "error_y": {
             "color": "#2a3f5f"
            },
            "marker": {
             "line": {
              "color": "#E5ECF6",
              "width": 0.5
             },
             "pattern": {
              "fillmode": "overlay",
              "size": 10,
              "solidity": 0.2
             }
            },
            "type": "bar"
           }
          ],
          "barpolar": [
           {
            "marker": {
             "line": {
              "color": "#E5ECF6",
              "width": 0.5
             },
             "pattern": {
              "fillmode": "overlay",
              "size": 10,
              "solidity": 0.2
             }
            },
            "type": "barpolar"
           }
          ],
          "carpet": [
           {
            "aaxis": {
             "endlinecolor": "#2a3f5f",
             "gridcolor": "white",
             "linecolor": "white",
             "minorgridcolor": "white",
             "startlinecolor": "#2a3f5f"
            },
            "baxis": {
             "endlinecolor": "#2a3f5f",
             "gridcolor": "white",
             "linecolor": "white",
             "minorgridcolor": "white",
             "startlinecolor": "#2a3f5f"
            },
            "type": "carpet"
           }
          ],
          "choropleth": [
           {
            "colorbar": {
             "outlinewidth": 0,
             "ticks": ""
            },
            "type": "choropleth"
           }
          ],
          "contour": [
           {
            "colorbar": {
             "outlinewidth": 0,
             "ticks": ""
            },
            "colorscale": [
             [
              0,
              "#0d0887"
             ],
             [
              0.1111111111111111,
              "#46039f"
             ],
             [
              0.2222222222222222,
              "#7201a8"
             ],
             [
              0.3333333333333333,
              "#9c179e"
             ],
             [
              0.4444444444444444,
              "#bd3786"
             ],
             [
              0.5555555555555556,
              "#d8576b"
             ],
             [
              0.6666666666666666,
              "#ed7953"
             ],
             [
              0.7777777777777778,
              "#fb9f3a"
             ],
             [
              0.8888888888888888,
              "#fdca26"
             ],
             [
              1,
              "#f0f921"
             ]
            ],
            "type": "contour"
           }
          ],
          "contourcarpet": [
           {
            "colorbar": {
             "outlinewidth": 0,
             "ticks": ""
            },
            "type": "contourcarpet"
           }
          ],
          "heatmap": [
           {
            "colorbar": {
             "outlinewidth": 0,
             "ticks": ""
            },
            "colorscale": [
             [
              0,
              "#0d0887"
             ],
             [
              0.1111111111111111,
              "#46039f"
             ],
             [
              0.2222222222222222,
              "#7201a8"
             ],
             [
              0.3333333333333333,
              "#9c179e"
             ],
             [
              0.4444444444444444,
              "#bd3786"
             ],
             [
              0.5555555555555556,
              "#d8576b"
             ],
             [
              0.6666666666666666,
              "#ed7953"
             ],
             [
              0.7777777777777778,
              "#fb9f3a"
             ],
             [
              0.8888888888888888,
              "#fdca26"
             ],
             [
              1,
              "#f0f921"
             ]
            ],
            "type": "heatmap"
           }
          ],
          "heatmapgl": [
           {
            "colorbar": {
             "outlinewidth": 0,
             "ticks": ""
            },
            "colorscale": [
             [
              0,
              "#0d0887"
             ],
             [
              0.1111111111111111,
              "#46039f"
             ],
             [
              0.2222222222222222,
              "#7201a8"
             ],
             [
              0.3333333333333333,
              "#9c179e"
             ],
             [
              0.4444444444444444,
              "#bd3786"
             ],
             [
              0.5555555555555556,
              "#d8576b"
             ],
             [
              0.6666666666666666,
              "#ed7953"
             ],
             [
              0.7777777777777778,
              "#fb9f3a"
             ],
             [
              0.8888888888888888,
              "#fdca26"
             ],
             [
              1,
              "#f0f921"
             ]
            ],
            "type": "heatmapgl"
           }
          ],
          "histogram": [
           {
            "marker": {
             "pattern": {
              "fillmode": "overlay",
              "size": 10,
              "solidity": 0.2
             }
            },
            "type": "histogram"
           }
          ],
          "histogram2d": [
           {
            "colorbar": {
             "outlinewidth": 0,
             "ticks": ""
            },
            "colorscale": [
             [
              0,
              "#0d0887"
             ],
             [
              0.1111111111111111,
              "#46039f"
             ],
             [
              0.2222222222222222,
              "#7201a8"
             ],
             [
              0.3333333333333333,
              "#9c179e"
             ],
             [
              0.4444444444444444,
              "#bd3786"
             ],
             [
              0.5555555555555556,
              "#d8576b"
             ],
             [
              0.6666666666666666,
              "#ed7953"
             ],
             [
              0.7777777777777778,
              "#fb9f3a"
             ],
             [
              0.8888888888888888,
              "#fdca26"
             ],
             [
              1,
              "#f0f921"
             ]
            ],
            "type": "histogram2d"
           }
          ],
          "histogram2dcontour": [
           {
            "colorbar": {
             "outlinewidth": 0,
             "ticks": ""
            },
            "colorscale": [
             [
              0,
              "#0d0887"
             ],
             [
              0.1111111111111111,
              "#46039f"
             ],
             [
              0.2222222222222222,
              "#7201a8"
             ],
             [
              0.3333333333333333,
              "#9c179e"
             ],
             [
              0.4444444444444444,
              "#bd3786"
             ],
             [
              0.5555555555555556,
              "#d8576b"
             ],
             [
              0.6666666666666666,
              "#ed7953"
             ],
             [
              0.7777777777777778,
              "#fb9f3a"
             ],
             [
              0.8888888888888888,
              "#fdca26"
             ],
             [
              1,
              "#f0f921"
             ]
            ],
            "type": "histogram2dcontour"
           }
          ],
          "mesh3d": [
           {
            "colorbar": {
             "outlinewidth": 0,
             "ticks": ""
            },
            "type": "mesh3d"
           }
          ],
          "parcoords": [
           {
            "line": {
             "colorbar": {
              "outlinewidth": 0,
              "ticks": ""
             }
            },
            "type": "parcoords"
           }
          ],
          "pie": [
           {
            "automargin": true,
            "type": "pie"
           }
          ],
          "scatter": [
           {
            "marker": {
             "colorbar": {
              "outlinewidth": 0,
              "ticks": ""
             }
            },
            "type": "scatter"
           }
          ],
          "scatter3d": [
           {
            "line": {
             "colorbar": {
              "outlinewidth": 0,
              "ticks": ""
             }
            },
            "marker": {
             "colorbar": {
              "outlinewidth": 0,
              "ticks": ""
             }
            },
            "type": "scatter3d"
           }
          ],
          "scattercarpet": [
           {
            "marker": {
             "colorbar": {
              "outlinewidth": 0,
              "ticks": ""
             }
            },
            "type": "scattercarpet"
           }
          ],
          "scattergeo": [
           {
            "marker": {
             "colorbar": {
              "outlinewidth": 0,
              "ticks": ""
             }
            },
            "type": "scattergeo"
           }
          ],
          "scattergl": [
           {
            "marker": {
             "colorbar": {
              "outlinewidth": 0,
              "ticks": ""
             }
            },
            "type": "scattergl"
           }
          ],
          "scattermapbox": [
           {
            "marker": {
             "colorbar": {
              "outlinewidth": 0,
              "ticks": ""
             }
            },
            "type": "scattermapbox"
           }
          ],
          "scatterpolar": [
           {
            "marker": {
             "colorbar": {
              "outlinewidth": 0,
              "ticks": ""
             }
            },
            "type": "scatterpolar"
           }
          ],
          "scatterpolargl": [
           {
            "marker": {
             "colorbar": {
              "outlinewidth": 0,
              "ticks": ""
             }
            },
            "type": "scatterpolargl"
           }
          ],
          "scatterternary": [
           {
            "marker": {
             "colorbar": {
              "outlinewidth": 0,
              "ticks": ""
             }
            },
            "type": "scatterternary"
           }
          ],
          "surface": [
           {
            "colorbar": {
             "outlinewidth": 0,
             "ticks": ""
            },
            "colorscale": [
             [
              0,
              "#0d0887"
             ],
             [
              0.1111111111111111,
              "#46039f"
             ],
             [
              0.2222222222222222,
              "#7201a8"
             ],
             [
              0.3333333333333333,
              "#9c179e"
             ],
             [
              0.4444444444444444,
              "#bd3786"
             ],
             [
              0.5555555555555556,
              "#d8576b"
             ],
             [
              0.6666666666666666,
              "#ed7953"
             ],
             [
              0.7777777777777778,
              "#fb9f3a"
             ],
             [
              0.8888888888888888,
              "#fdca26"
             ],
             [
              1,
              "#f0f921"
             ]
            ],
            "type": "surface"
           }
          ],
          "table": [
           {
            "cells": {
             "fill": {
              "color": "#EBF0F8"
             },
             "line": {
              "color": "white"
             }
            },
            "header": {
             "fill": {
              "color": "#C8D4E3"
             },
             "line": {
              "color": "white"
             }
            },
            "type": "table"
           }
          ]
         },
         "layout": {
          "annotationdefaults": {
           "arrowcolor": "#2a3f5f",
           "arrowhead": 0,
           "arrowwidth": 1
          },
          "autotypenumbers": "strict",
          "coloraxis": {
           "colorbar": {
            "outlinewidth": 0,
            "ticks": ""
           }
          },
          "colorscale": {
           "diverging": [
            [
             0,
             "#8e0152"
            ],
            [
             0.1,
             "#c51b7d"
            ],
            [
             0.2,
             "#de77ae"
            ],
            [
             0.3,
             "#f1b6da"
            ],
            [
             0.4,
             "#fde0ef"
            ],
            [
             0.5,
             "#f7f7f7"
            ],
            [
             0.6,
             "#e6f5d0"
            ],
            [
             0.7,
             "#b8e186"
            ],
            [
             0.8,
             "#7fbc41"
            ],
            [
             0.9,
             "#4d9221"
            ],
            [
             1,
             "#276419"
            ]
           ],
           "sequential": [
            [
             0,
             "#0d0887"
            ],
            [
             0.1111111111111111,
             "#46039f"
            ],
            [
             0.2222222222222222,
             "#7201a8"
            ],
            [
             0.3333333333333333,
             "#9c179e"
            ],
            [
             0.4444444444444444,
             "#bd3786"
            ],
            [
             0.5555555555555556,
             "#d8576b"
            ],
            [
             0.6666666666666666,
             "#ed7953"
            ],
            [
             0.7777777777777778,
             "#fb9f3a"
            ],
            [
             0.8888888888888888,
             "#fdca26"
            ],
            [
             1,
             "#f0f921"
            ]
           ],
           "sequentialminus": [
            [
             0,
             "#0d0887"
            ],
            [
             0.1111111111111111,
             "#46039f"
            ],
            [
             0.2222222222222222,
             "#7201a8"
            ],
            [
             0.3333333333333333,
             "#9c179e"
            ],
            [
             0.4444444444444444,
             "#bd3786"
            ],
            [
             0.5555555555555556,
             "#d8576b"
            ],
            [
             0.6666666666666666,
             "#ed7953"
            ],
            [
             0.7777777777777778,
             "#fb9f3a"
            ],
            [
             0.8888888888888888,
             "#fdca26"
            ],
            [
             1,
             "#f0f921"
            ]
           ]
          },
          "colorway": [
           "#636efa",
           "#EF553B",
           "#00cc96",
           "#ab63fa",
           "#FFA15A",
           "#19d3f3",
           "#FF6692",
           "#B6E880",
           "#FF97FF",
           "#FECB52"
          ],
          "font": {
           "color": "#2a3f5f"
          },
          "geo": {
           "bgcolor": "white",
           "lakecolor": "white",
           "landcolor": "#E5ECF6",
           "showlakes": true,
           "showland": true,
           "subunitcolor": "white"
          },
          "hoverlabel": {
           "align": "left"
          },
          "hovermode": "closest",
          "mapbox": {
           "style": "light"
          },
          "paper_bgcolor": "white",
          "plot_bgcolor": "#E5ECF6",
          "polar": {
           "angularaxis": {
            "gridcolor": "white",
            "linecolor": "white",
            "ticks": ""
           },
           "bgcolor": "#E5ECF6",
           "radialaxis": {
            "gridcolor": "white",
            "linecolor": "white",
            "ticks": ""
           }
          },
          "scene": {
           "xaxis": {
            "backgroundcolor": "#E5ECF6",
            "gridcolor": "white",
            "gridwidth": 2,
            "linecolor": "white",
            "showbackground": true,
            "ticks": "",
            "zerolinecolor": "white"
           },
           "yaxis": {
            "backgroundcolor": "#E5ECF6",
            "gridcolor": "white",
            "gridwidth": 2,
            "linecolor": "white",
            "showbackground": true,
            "ticks": "",
            "zerolinecolor": "white"
           },
           "zaxis": {
            "backgroundcolor": "#E5ECF6",
            "gridcolor": "white",
            "gridwidth": 2,
            "linecolor": "white",
            "showbackground": true,
            "ticks": "",
            "zerolinecolor": "white"
           }
          },
          "shapedefaults": {
           "line": {
            "color": "#2a3f5f"
           }
          },
          "ternary": {
           "aaxis": {
            "gridcolor": "white",
            "linecolor": "white",
            "ticks": ""
           },
           "baxis": {
            "gridcolor": "white",
            "linecolor": "white",
            "ticks": ""
           },
           "bgcolor": "#E5ECF6",
           "caxis": {
            "gridcolor": "white",
            "linecolor": "white",
            "ticks": ""
           }
          },
          "title": {
           "x": 0.05
          },
          "xaxis": {
           "automargin": true,
           "gridcolor": "white",
           "linecolor": "white",
           "ticks": "",
           "title": {
            "standoff": 15
           },
           "zerolinecolor": "white",
           "zerolinewidth": 2
          },
          "yaxis": {
           "automargin": true,
           "gridcolor": "white",
           "linecolor": "white",
           "ticks": "",
           "title": {
            "standoff": 15
           },
           "zerolinecolor": "white",
           "zerolinewidth": 2
          }
         }
        },
        "title": {
         "text": "For Negative Strand"
        },
        "xaxis": {
         "title": {
          "text": "Sequence Position"
         }
        },
        "yaxis": {
         "title": {
          "text": "IPD/Methylation Value"
         }
        }
       }
      }
     },
     "metadata": {},
     "output_type": "display_data"
    }
   ],
   "source": [
    "fig = go.Figure()\n",
    "\n",
    "fig.add_trace(go.Scatter(y=NEGATIVE_TMEAN.flatten()[RANGE_START:RANGE_END],\n",
    "                    mode='lines',\n",
    "                    name='-IPDs'))\n",
    "fig.add_trace(go.Scatter(y=NEGATIVE_FRAC.flatten()[RANGE_START:RANGE_END],\n",
    "                    mode='lines',\n",
    "                    name='-Methylation'))\n",
    "fig.add_trace(go.Scatter(y=NEGATIVE_MP.flatten()[RANGE_START:RANGE_END],\n",
    "                    mode='lines',\n",
    "                    name='Stumpy'))\n",
    "\n",
    "fig.update_layout(\n",
    "    title=\"For Negative Strand\",\n",
    "    xaxis_title='Sequence Position',\n",
    "    yaxis_title='IPD/Methylation Value')\n",
    "fig.show()"
   ]
  },
  {
   "cell_type": "markdown",
   "metadata": {},
   "source": [
    "#### Modeling ...\n",
    "\n",
    "I feel like it gest confused real easily."
   ]
  },
  {
   "cell_type": "code",
   "execution_count": 325,
   "metadata": {},
   "outputs": [
    {
     "data": {
      "text/plain": [
       "GaussianHMM(covariance_type='full', n_components=4, random_state=42)"
      ]
     },
     "execution_count": 325,
     "metadata": {},
     "output_type": "execute_result"
    }
   ],
   "source": [
    "# This is basically all data. It produces non-intuitive results\n",
    "X = np.concatenate([POSITIVE_STRAND, POSITIVE_TMEAN, POSITIVE_FRAC, NEGATIVE_STRAND, NEGATIVE_TMEAN, NEGATIVE_FRAC, \\\n",
    "     POSITIVE_MP, NEGATIVE_MP])\n",
    "LENGHTS = np.array([len(POSITIVE_STRAND), len(POSITIVE_TMEAN), len(POSITIVE_FRAC), len(NEGATIVE_STRAND), \\\n",
    "     len(NEGATIVE_TMEAN), len(NEGATIVE_FRAC), len(POSITIVE_MP), len(NEGATIVE_MP)])\n",
    "\n",
    "# If I use this, it's interesting how it is able to hit all the methylation spots relatively accuratly\n",
    "X = np.concatenate([POSITIVE_TMEAN, NEGATIVE_TMEAN])\n",
    "LENGHTS = np.array([len(POSITIVE_TMEAN), len(NEGATIVE_TMEAN)])\n",
    "\n",
    "# This is IPDS with the Methylation data, in more straightforward data, produces real intuitive data ... messy data, \\\n",
    "#  not so much ...\n",
    "X = np.concatenate([POSITIVE_TMEAN, POSITIVE_FRAC, NEGATIVE_TMEAN, NEGATIVE_FRAC])\n",
    "LENGHTS = np.array([len(POSITIVE_TMEAN), len(POSITIVE_FRAC), len(NEGATIVE_TMEAN), len(NEGATIVE_FRAC)])\n",
    "\n",
    "\n",
    "# HMM\n",
    "STATES = 4\n",
    "\n",
    "model = hmm.GaussianHMM(n_components=STATES, verbose=False, covariance_type=\"full\", algorithm=\"viterbi\", \\\n",
    "      implementation=\"log\", random_state=42)\n",
    "model.fit(X, LENGHTS)\n"
   ]
  },
  {
   "cell_type": "code",
   "execution_count": 326,
   "metadata": {},
   "outputs": [],
   "source": [
    "predictions = model.predict(X, LENGHTS)"
   ]
  },
  {
   "cell_type": "code",
   "execution_count": 327,
   "metadata": {},
   "outputs": [],
   "source": [
    "def convert_predictions(predictions):\n",
    "    prediction_states = {}\n",
    "    for n in np.unique(predictions):\n",
    "        prediction_states[n] = [-1.5 if x == n else 0 for x in predictions]\n",
    "    return prediction_states\n",
    "\n",
    "converted_predictions = convert_predictions(predictions)\n",
    "\n",
    "BAR_COLORS = [\"#e6194B\", \"#3cb44b\", \"#42d4f4\", \"#911eb4\", \"#000000\", \"#ffd8b1\", \"#000075\", \"#808000\"]"
   ]
  },
  {
   "cell_type": "markdown",
   "metadata": {},
   "source": [
    "#### Predictions ...\n",
    "\n",
    "In a non-B-DNA predictor called Gquad, it predicts the region around base pain 21 and 76 to form G4s"
   ]
  },
  {
   "cell_type": "code",
   "execution_count": 331,
   "metadata": {},
   "outputs": [
    {
     "data": {
      "application/vnd.plotly.v1+json": {
       "config": {
        "plotlyServerURL": "https://plot.ly"
       },
       "data": [
        {
         "mode": "lines",
         "name": "+IPDs",
         "type": "scatter",
         "y": [
          0.9,
          1.251,
          0.918,
          1.689,
          1.014,
          0.774,
          1.333,
          0.722,
          0.79,
          1.948,
          1.562,
          1.195,
          0.737,
          0.793,
          0.836,
          1.915,
          1.874,
          0.627,
          0.64,
          0.647,
          1.971,
          0.874,
          0.79,
          0.894,
          0.908,
          0.734,
          0.892,
          0.918,
          1.166,
          0.517,
          0.667,
          0.626,
          0.844,
          0.816,
          0.57,
          0.783,
          0.529,
          0.765,
          0.725,
          1.247,
          1.164,
          0.944,
          1.372,
          0.659,
          0.701,
          0.661,
          1.055,
          0.776,
          1.259,
          1.186,
          1.033,
          0.833,
          1.716,
          1.124,
          0.612,
          0.653,
          0.821,
          0.804,
          0.71,
          1.165,
          1.149,
          1.766,
          0.954,
          0.657,
          1.37,
          1.343,
          0.576,
          0.754,
          0.806,
          2.057,
          0.806,
          0.663,
          0.833,
          1.015,
          0.724,
          0.68,
          1.012,
          0.758,
          0.678,
          0.825,
          0.888,
          1.783,
          1.351,
          0.891,
          0.683,
          1.128,
          0.489,
          0.534,
          0.458,
          1.31,
          1.088,
          0.823,
          1.443,
          1.024,
          1.098,
          0.703,
          0.744,
          0.702,
          0.595,
          0.672,
          1.133,
          3.751,
          0.707,
          0.866,
          0.931,
          0.611,
          1.232,
          1.871,
          0.645,
          2.752,
          0.962,
          0.774,
          0.804,
          0.913,
          1.407,
          1.479,
          0.724,
          0.848,
          1.335,
          1.264,
          0.855,
          0.934,
          2.348,
          1.927,
          0.792,
          0.826,
          1.67,
          2.835,
          0.883,
          0.629,
          1.089,
          1.991,
          0.656,
          0.994,
          1.318,
          3.513,
          0.809,
          0.73,
          4.93,
          1.475,
          0.688,
          1.847,
          1.199,
          1.159,
          1.114,
          1.064,
          0.943,
          0.985,
          0.873,
          1.551,
          0.816,
          1.592,
          4.984,
          1.922,
          1.515,
          1.017,
          1.044,
          0.609,
          0.931,
          0.943,
          0.588,
          0.616,
          0.678,
          2.407,
          0.587,
          0.632,
          0.922,
          0.595,
          1.816,
          1.486,
          10.879,
          3.081,
          2.342,
          2.17,
          1.564,
          1.074,
          1.339,
          0.666,
          0.799,
          0.609,
          0.902,
          0.72,
          1.592,
          0.594,
          2.646,
          1.196,
          0.667,
          0.712,
          0.917,
          1.141,
          0.729,
          0.764,
          0.901,
          0.732,
          0.776,
          0.7,
          0.635,
          0.906,
          0.712,
          0.556,
          0.976,
          0.872,
          6.246,
          1.341,
          1.62,
          0.846,
          1.28,
          1.189,
          0.661,
          0.648,
          0.81,
          1.055,
          1.134,
          1.175,
          0.896,
          0.713,
          0.654,
          0.621,
          0.702,
          0.531,
          0.594,
          0.642,
          0.602,
          0.667,
          1.759,
          1.064,
          0.758,
          0.836,
          0.659,
          0.539,
          1.041,
          0.588,
          0.921,
          0.643,
          0.731,
          0.708,
          0.735,
          0.621,
          0.569,
          0.855,
          0.89,
          0.96,
          0.706,
          0.518,
          1.185,
          0.781,
          0.612,
          0.622,
          0.502,
          0.449
         ]
        },
        {
         "mode": "lines",
         "name": "+Methylation",
         "type": "scatter",
         "y": [
          0,
          0,
          0,
          0.887,
          0,
          0,
          0,
          0,
          0,
          0,
          0,
          0,
          0,
          0,
          0,
          0,
          0,
          0,
          0,
          0,
          0,
          0,
          0,
          0,
          0,
          0,
          0,
          0,
          0,
          0,
          0,
          0,
          0,
          0,
          0,
          0,
          0,
          0,
          0,
          0,
          0,
          0,
          0,
          0,
          0,
          0,
          0,
          0,
          0,
          0,
          0,
          0,
          0,
          0,
          0,
          0,
          0,
          0,
          0,
          0,
          0,
          0,
          0,
          0,
          0,
          0,
          0,
          0,
          0,
          0.458,
          0,
          0,
          0,
          0,
          0,
          0,
          0,
          0,
          0,
          0,
          0,
          0,
          0,
          0,
          0,
          0,
          0,
          0,
          0,
          0,
          0,
          0,
          0.238,
          0,
          0,
          0,
          0,
          0,
          0,
          0,
          0,
          0,
          0,
          0,
          0,
          0,
          0,
          0,
          0,
          0.767,
          0,
          0,
          0,
          0,
          0,
          0,
          0,
          0,
          0,
          0,
          0,
          0.871,
          0.825,
          0,
          0,
          0,
          0,
          0,
          0,
          0.629,
          0,
          0,
          0,
          0,
          0,
          0,
          0,
          0,
          0,
          0,
          0,
          0,
          0,
          0,
          0,
          0,
          0,
          0,
          0,
          0,
          0,
          0,
          0,
          0,
          0,
          0,
          0,
          0,
          0,
          0,
          0,
          0,
          0,
          0,
          0,
          0,
          0,
          0,
          0,
          0,
          0,
          0,
          0.418,
          0.472,
          0,
          0,
          0,
          0,
          0,
          0,
          0,
          0,
          0,
          0,
          0,
          0,
          0,
          0,
          0,
          0,
          0,
          0,
          0,
          0,
          0,
          0,
          0,
          0,
          0,
          0,
          0,
          0,
          0,
          0,
          0,
          0,
          0,
          0,
          0,
          0,
          0,
          0,
          0,
          0,
          0,
          0,
          0,
          0,
          0,
          0,
          0,
          0,
          0,
          0,
          0,
          0,
          0,
          0,
          0,
          0,
          0,
          0,
          0,
          0,
          0,
          0,
          0,
          0,
          0,
          0,
          0,
          0,
          0,
          0,
          0,
          0,
          0,
          0,
          0,
          0
         ]
        },
        {
         "marker": {
          "color": "#e6194B"
         },
         "name": "State 0",
         "type": "bar",
         "width": 0.8,
         "y": [
          0,
          0,
          0,
          0,
          0,
          0,
          0,
          0,
          0,
          0,
          0,
          0,
          0,
          0,
          0,
          0,
          0,
          0,
          0,
          0,
          0,
          0,
          0,
          0,
          0,
          0,
          0,
          0,
          0,
          0,
          0,
          0,
          0,
          0,
          0,
          0,
          0,
          0,
          0,
          0,
          0,
          0,
          0,
          0,
          0,
          0,
          0,
          0,
          0,
          0,
          0,
          0,
          0,
          0,
          0,
          0,
          0,
          0,
          0,
          0,
          0,
          0,
          0,
          0,
          0,
          0,
          0,
          0,
          0,
          0,
          0,
          0,
          0,
          0,
          0,
          0,
          0,
          0,
          0,
          0,
          0,
          0,
          0,
          0,
          0,
          0,
          0,
          0,
          0,
          0,
          0,
          0,
          0,
          0,
          0,
          0,
          0,
          0,
          0,
          0,
          0,
          0,
          0,
          0,
          0,
          0,
          0,
          0,
          0,
          0,
          0,
          0,
          0,
          0,
          0,
          0,
          0,
          0,
          0,
          0,
          0,
          0,
          0,
          0,
          0,
          0,
          0,
          0,
          0,
          0,
          0,
          0,
          0,
          0,
          0,
          0,
          0,
          0,
          0,
          0,
          0,
          0,
          0,
          0,
          0,
          0,
          0,
          0,
          0,
          0,
          0,
          0,
          0,
          0,
          0,
          0,
          0,
          0,
          0,
          0,
          0,
          0,
          0,
          0,
          0,
          0,
          0,
          0,
          0,
          0,
          0,
          0,
          0,
          0,
          0,
          0,
          0,
          0,
          0,
          0,
          0,
          0,
          0,
          0,
          0,
          0,
          0,
          0,
          0,
          0,
          0,
          0,
          0,
          0,
          0,
          0,
          0,
          0,
          0,
          0,
          0,
          0,
          0,
          0,
          0,
          0,
          0,
          0,
          0,
          0,
          0,
          0,
          0,
          0,
          0,
          0,
          0,
          0,
          0,
          0,
          0,
          0,
          0,
          0,
          0,
          0,
          0,
          0,
          0,
          0,
          0,
          0,
          0,
          0,
          0,
          0,
          0,
          0,
          0,
          0,
          0,
          0,
          0,
          0,
          0,
          0,
          0,
          0,
          0,
          0
         ]
        },
        {
         "marker": {
          "color": "#3cb44b"
         },
         "name": "State 1",
         "type": "bar",
         "width": 0.8,
         "y": [
          0,
          0,
          0,
          -1.5,
          0,
          0,
          -1.5,
          0,
          0,
          -1.5,
          -1.5,
          0,
          0,
          0,
          0,
          -1.5,
          -1.5,
          0,
          0,
          0,
          -1.5,
          0,
          0,
          0,
          0,
          0,
          0,
          0,
          0,
          0,
          0,
          0,
          0,
          0,
          0,
          0,
          0,
          0,
          0,
          0,
          0,
          0,
          -1.5,
          0,
          0,
          0,
          0,
          0,
          0,
          0,
          0,
          0,
          -1.5,
          0,
          0,
          0,
          0,
          0,
          0,
          0,
          0,
          -1.5,
          0,
          0,
          -1.5,
          -1.5,
          0,
          0,
          0,
          -1.5,
          0,
          0,
          0,
          0,
          0,
          0,
          0,
          0,
          0,
          0,
          0,
          -1.5,
          -1.5,
          0,
          0,
          0,
          0,
          0,
          0,
          -1.5,
          0,
          0,
          -1.5,
          0,
          0,
          0,
          0,
          0,
          0,
          0,
          0,
          -1.5,
          0,
          0,
          0,
          0,
          0,
          -1.5,
          0,
          -1.5,
          0,
          0,
          0,
          0,
          -1.5,
          -1.5,
          0,
          0,
          -1.5,
          -1.5,
          0,
          0,
          -1.5,
          -1.5,
          0,
          0,
          -1.5,
          -1.5,
          0,
          0,
          0,
          -1.5,
          0,
          0,
          -1.5,
          -1.5,
          0,
          0,
          0,
          -1.5,
          0,
          -1.5,
          0,
          0,
          0,
          0,
          0,
          0,
          0,
          -1.5,
          0,
          -1.5,
          0,
          -1.5,
          -1.5,
          0,
          0,
          0,
          0,
          0,
          0,
          0,
          0,
          -1.5,
          0,
          0,
          0,
          0,
          -1.5,
          -1.5,
          0,
          -1.5,
          -1.5,
          -1.5,
          -1.5,
          0,
          -1.5,
          0,
          0,
          0,
          0,
          0,
          -1.5,
          0,
          -1.5,
          0,
          0,
          0,
          0,
          0,
          0,
          0,
          0,
          0,
          0,
          0,
          0,
          0,
          0,
          0,
          0,
          0,
          0,
          -1.5,
          -1.5,
          0,
          0,
          0,
          0,
          0,
          0,
          0,
          0,
          0,
          0,
          0,
          0,
          0,
          0,
          0,
          0,
          0,
          0,
          0,
          -1.5,
          0,
          0,
          0,
          0,
          0,
          0,
          0,
          0,
          0,
          0,
          0,
          0,
          0,
          0,
          0,
          0,
          0,
          0,
          0,
          0,
          0,
          0,
          0,
          0,
          0
         ]
        },
        {
         "marker": {
          "color": "#42d4f4"
         },
         "name": "State 2",
         "type": "bar",
         "width": 0.8,
         "y": [
          0,
          0,
          0,
          0,
          0,
          0,
          0,
          0,
          0,
          0,
          0,
          0,
          0,
          0,
          0,
          0,
          0,
          0,
          0,
          0,
          0,
          0,
          0,
          0,
          0,
          0,
          0,
          0,
          0,
          0,
          0,
          0,
          0,
          0,
          0,
          0,
          0,
          0,
          0,
          0,
          0,
          0,
          0,
          0,
          0,
          0,
          0,
          0,
          0,
          0,
          0,
          0,
          0,
          0,
          0,
          0,
          0,
          0,
          0,
          0,
          0,
          0,
          0,
          0,
          0,
          0,
          0,
          0,
          0,
          0,
          0,
          0,
          0,
          0,
          0,
          0,
          0,
          0,
          0,
          0,
          0,
          0,
          0,
          0,
          0,
          0,
          0,
          0,
          0,
          0,
          0,
          0,
          0,
          0,
          0,
          0,
          0,
          0,
          0,
          0,
          0,
          0,
          0,
          0,
          0,
          0,
          0,
          0,
          0,
          0,
          0,
          0,
          0,
          0,
          0,
          0,
          0,
          0,
          0,
          0,
          0,
          0,
          0,
          0,
          0,
          0,
          0,
          0,
          0,
          0,
          0,
          0,
          0,
          0,
          0,
          0,
          0,
          0,
          -1.5,
          0,
          0,
          0,
          0,
          0,
          0,
          0,
          0,
          0,
          0,
          0,
          0,
          0,
          -1.5,
          0,
          0,
          0,
          0,
          0,
          0,
          0,
          0,
          0,
          0,
          0,
          0,
          0,
          0,
          0,
          0,
          0,
          -1.5,
          0,
          0,
          0,
          0,
          0,
          0,
          0,
          0,
          0,
          0,
          0,
          0,
          0,
          0,
          0,
          0,
          0,
          0,
          0,
          0,
          0,
          0,
          0,
          0,
          0,
          0,
          0,
          0,
          0,
          0,
          0,
          -1.5,
          0,
          0,
          0,
          0,
          0,
          0,
          0,
          0,
          0,
          0,
          0,
          0,
          0,
          0,
          0,
          0,
          0,
          0,
          0,
          0,
          0,
          0,
          0,
          0,
          0,
          0,
          0,
          0,
          0,
          0,
          0,
          0,
          0,
          0,
          0,
          0,
          0,
          0,
          0,
          0,
          0,
          0,
          0,
          0,
          0,
          0,
          0
         ]
        },
        {
         "marker": {
          "color": "#911eb4"
         },
         "name": "State 3",
         "type": "bar",
         "width": 0.8,
         "y": [
          -1.5,
          -1.5,
          -1.5,
          0,
          -1.5,
          -1.5,
          0,
          -1.5,
          -1.5,
          0,
          0,
          -1.5,
          -1.5,
          -1.5,
          -1.5,
          0,
          0,
          -1.5,
          -1.5,
          -1.5,
          0,
          -1.5,
          -1.5,
          -1.5,
          -1.5,
          -1.5,
          -1.5,
          -1.5,
          -1.5,
          -1.5,
          -1.5,
          -1.5,
          -1.5,
          -1.5,
          -1.5,
          -1.5,
          -1.5,
          -1.5,
          -1.5,
          -1.5,
          -1.5,
          -1.5,
          0,
          -1.5,
          -1.5,
          -1.5,
          -1.5,
          -1.5,
          -1.5,
          -1.5,
          -1.5,
          -1.5,
          0,
          -1.5,
          -1.5,
          -1.5,
          -1.5,
          -1.5,
          -1.5,
          -1.5,
          -1.5,
          0,
          -1.5,
          -1.5,
          0,
          0,
          -1.5,
          -1.5,
          -1.5,
          0,
          -1.5,
          -1.5,
          -1.5,
          -1.5,
          -1.5,
          -1.5,
          -1.5,
          -1.5,
          -1.5,
          -1.5,
          -1.5,
          0,
          0,
          -1.5,
          -1.5,
          -1.5,
          -1.5,
          -1.5,
          -1.5,
          0,
          -1.5,
          -1.5,
          0,
          -1.5,
          -1.5,
          -1.5,
          -1.5,
          -1.5,
          -1.5,
          -1.5,
          -1.5,
          0,
          -1.5,
          -1.5,
          -1.5,
          -1.5,
          -1.5,
          0,
          -1.5,
          0,
          -1.5,
          -1.5,
          -1.5,
          -1.5,
          0,
          0,
          -1.5,
          -1.5,
          0,
          0,
          -1.5,
          -1.5,
          0,
          0,
          -1.5,
          -1.5,
          0,
          0,
          -1.5,
          -1.5,
          -1.5,
          0,
          -1.5,
          -1.5,
          0,
          0,
          -1.5,
          -1.5,
          0,
          0,
          -1.5,
          0,
          -1.5,
          -1.5,
          -1.5,
          -1.5,
          -1.5,
          -1.5,
          -1.5,
          0,
          -1.5,
          0,
          0,
          0,
          0,
          -1.5,
          -1.5,
          -1.5,
          -1.5,
          -1.5,
          -1.5,
          -1.5,
          -1.5,
          0,
          -1.5,
          -1.5,
          -1.5,
          -1.5,
          0,
          0,
          0,
          0,
          0,
          0,
          0,
          -1.5,
          0,
          -1.5,
          -1.5,
          -1.5,
          -1.5,
          -1.5,
          0,
          -1.5,
          0,
          -1.5,
          -1.5,
          -1.5,
          -1.5,
          -1.5,
          -1.5,
          -1.5,
          -1.5,
          -1.5,
          -1.5,
          -1.5,
          -1.5,
          -1.5,
          -1.5,
          -1.5,
          -1.5,
          -1.5,
          0,
          0,
          0,
          -1.5,
          -1.5,
          -1.5,
          -1.5,
          -1.5,
          -1.5,
          -1.5,
          -1.5,
          -1.5,
          -1.5,
          -1.5,
          -1.5,
          -1.5,
          -1.5,
          -1.5,
          -1.5,
          -1.5,
          -1.5,
          -1.5,
          0,
          -1.5,
          -1.5,
          -1.5,
          -1.5,
          -1.5,
          -1.5,
          -1.5,
          -1.5,
          -1.5,
          -1.5,
          -1.5,
          -1.5,
          -1.5,
          -1.5,
          -1.5,
          -1.5,
          -1.5,
          -1.5,
          -1.5,
          -1.5,
          -1.5,
          -1.5,
          -1.5,
          -1.5,
          -1.5
         ]
        }
       ],
       "layout": {
        "bargap": 0,
        "template": {
         "data": {
          "bar": [
           {
            "error_x": {
             "color": "#2a3f5f"
            },
            "error_y": {
             "color": "#2a3f5f"
            },
            "marker": {
             "line": {
              "color": "#E5ECF6",
              "width": 0.5
             },
             "pattern": {
              "fillmode": "overlay",
              "size": 10,
              "solidity": 0.2
             }
            },
            "type": "bar"
           }
          ],
          "barpolar": [
           {
            "marker": {
             "line": {
              "color": "#E5ECF6",
              "width": 0.5
             },
             "pattern": {
              "fillmode": "overlay",
              "size": 10,
              "solidity": 0.2
             }
            },
            "type": "barpolar"
           }
          ],
          "carpet": [
           {
            "aaxis": {
             "endlinecolor": "#2a3f5f",
             "gridcolor": "white",
             "linecolor": "white",
             "minorgridcolor": "white",
             "startlinecolor": "#2a3f5f"
            },
            "baxis": {
             "endlinecolor": "#2a3f5f",
             "gridcolor": "white",
             "linecolor": "white",
             "minorgridcolor": "white",
             "startlinecolor": "#2a3f5f"
            },
            "type": "carpet"
           }
          ],
          "choropleth": [
           {
            "colorbar": {
             "outlinewidth": 0,
             "ticks": ""
            },
            "type": "choropleth"
           }
          ],
          "contour": [
           {
            "colorbar": {
             "outlinewidth": 0,
             "ticks": ""
            },
            "colorscale": [
             [
              0,
              "#0d0887"
             ],
             [
              0.1111111111111111,
              "#46039f"
             ],
             [
              0.2222222222222222,
              "#7201a8"
             ],
             [
              0.3333333333333333,
              "#9c179e"
             ],
             [
              0.4444444444444444,
              "#bd3786"
             ],
             [
              0.5555555555555556,
              "#d8576b"
             ],
             [
              0.6666666666666666,
              "#ed7953"
             ],
             [
              0.7777777777777778,
              "#fb9f3a"
             ],
             [
              0.8888888888888888,
              "#fdca26"
             ],
             [
              1,
              "#f0f921"
             ]
            ],
            "type": "contour"
           }
          ],
          "contourcarpet": [
           {
            "colorbar": {
             "outlinewidth": 0,
             "ticks": ""
            },
            "type": "contourcarpet"
           }
          ],
          "heatmap": [
           {
            "colorbar": {
             "outlinewidth": 0,
             "ticks": ""
            },
            "colorscale": [
             [
              0,
              "#0d0887"
             ],
             [
              0.1111111111111111,
              "#46039f"
             ],
             [
              0.2222222222222222,
              "#7201a8"
             ],
             [
              0.3333333333333333,
              "#9c179e"
             ],
             [
              0.4444444444444444,
              "#bd3786"
             ],
             [
              0.5555555555555556,
              "#d8576b"
             ],
             [
              0.6666666666666666,
              "#ed7953"
             ],
             [
              0.7777777777777778,
              "#fb9f3a"
             ],
             [
              0.8888888888888888,
              "#fdca26"
             ],
             [
              1,
              "#f0f921"
             ]
            ],
            "type": "heatmap"
           }
          ],
          "heatmapgl": [
           {
            "colorbar": {
             "outlinewidth": 0,
             "ticks": ""
            },
            "colorscale": [
             [
              0,
              "#0d0887"
             ],
             [
              0.1111111111111111,
              "#46039f"
             ],
             [
              0.2222222222222222,
              "#7201a8"
             ],
             [
              0.3333333333333333,
              "#9c179e"
             ],
             [
              0.4444444444444444,
              "#bd3786"
             ],
             [
              0.5555555555555556,
              "#d8576b"
             ],
             [
              0.6666666666666666,
              "#ed7953"
             ],
             [
              0.7777777777777778,
              "#fb9f3a"
             ],
             [
              0.8888888888888888,
              "#fdca26"
             ],
             [
              1,
              "#f0f921"
             ]
            ],
            "type": "heatmapgl"
           }
          ],
          "histogram": [
           {
            "marker": {
             "pattern": {
              "fillmode": "overlay",
              "size": 10,
              "solidity": 0.2
             }
            },
            "type": "histogram"
           }
          ],
          "histogram2d": [
           {
            "colorbar": {
             "outlinewidth": 0,
             "ticks": ""
            },
            "colorscale": [
             [
              0,
              "#0d0887"
             ],
             [
              0.1111111111111111,
              "#46039f"
             ],
             [
              0.2222222222222222,
              "#7201a8"
             ],
             [
              0.3333333333333333,
              "#9c179e"
             ],
             [
              0.4444444444444444,
              "#bd3786"
             ],
             [
              0.5555555555555556,
              "#d8576b"
             ],
             [
              0.6666666666666666,
              "#ed7953"
             ],
             [
              0.7777777777777778,
              "#fb9f3a"
             ],
             [
              0.8888888888888888,
              "#fdca26"
             ],
             [
              1,
              "#f0f921"
             ]
            ],
            "type": "histogram2d"
           }
          ],
          "histogram2dcontour": [
           {
            "colorbar": {
             "outlinewidth": 0,
             "ticks": ""
            },
            "colorscale": [
             [
              0,
              "#0d0887"
             ],
             [
              0.1111111111111111,
              "#46039f"
             ],
             [
              0.2222222222222222,
              "#7201a8"
             ],
             [
              0.3333333333333333,
              "#9c179e"
             ],
             [
              0.4444444444444444,
              "#bd3786"
             ],
             [
              0.5555555555555556,
              "#d8576b"
             ],
             [
              0.6666666666666666,
              "#ed7953"
             ],
             [
              0.7777777777777778,
              "#fb9f3a"
             ],
             [
              0.8888888888888888,
              "#fdca26"
             ],
             [
              1,
              "#f0f921"
             ]
            ],
            "type": "histogram2dcontour"
           }
          ],
          "mesh3d": [
           {
            "colorbar": {
             "outlinewidth": 0,
             "ticks": ""
            },
            "type": "mesh3d"
           }
          ],
          "parcoords": [
           {
            "line": {
             "colorbar": {
              "outlinewidth": 0,
              "ticks": ""
             }
            },
            "type": "parcoords"
           }
          ],
          "pie": [
           {
            "automargin": true,
            "type": "pie"
           }
          ],
          "scatter": [
           {
            "marker": {
             "colorbar": {
              "outlinewidth": 0,
              "ticks": ""
             }
            },
            "type": "scatter"
           }
          ],
          "scatter3d": [
           {
            "line": {
             "colorbar": {
              "outlinewidth": 0,
              "ticks": ""
             }
            },
            "marker": {
             "colorbar": {
              "outlinewidth": 0,
              "ticks": ""
             }
            },
            "type": "scatter3d"
           }
          ],
          "scattercarpet": [
           {
            "marker": {
             "colorbar": {
              "outlinewidth": 0,
              "ticks": ""
             }
            },
            "type": "scattercarpet"
           }
          ],
          "scattergeo": [
           {
            "marker": {
             "colorbar": {
              "outlinewidth": 0,
              "ticks": ""
             }
            },
            "type": "scattergeo"
           }
          ],
          "scattergl": [
           {
            "marker": {
             "colorbar": {
              "outlinewidth": 0,
              "ticks": ""
             }
            },
            "type": "scattergl"
           }
          ],
          "scattermapbox": [
           {
            "marker": {
             "colorbar": {
              "outlinewidth": 0,
              "ticks": ""
             }
            },
            "type": "scattermapbox"
           }
          ],
          "scatterpolar": [
           {
            "marker": {
             "colorbar": {
              "outlinewidth": 0,
              "ticks": ""
             }
            },
            "type": "scatterpolar"
           }
          ],
          "scatterpolargl": [
           {
            "marker": {
             "colorbar": {
              "outlinewidth": 0,
              "ticks": ""
             }
            },
            "type": "scatterpolargl"
           }
          ],
          "scatterternary": [
           {
            "marker": {
             "colorbar": {
              "outlinewidth": 0,
              "ticks": ""
             }
            },
            "type": "scatterternary"
           }
          ],
          "surface": [
           {
            "colorbar": {
             "outlinewidth": 0,
             "ticks": ""
            },
            "colorscale": [
             [
              0,
              "#0d0887"
             ],
             [
              0.1111111111111111,
              "#46039f"
             ],
             [
              0.2222222222222222,
              "#7201a8"
             ],
             [
              0.3333333333333333,
              "#9c179e"
             ],
             [
              0.4444444444444444,
              "#bd3786"
             ],
             [
              0.5555555555555556,
              "#d8576b"
             ],
             [
              0.6666666666666666,
              "#ed7953"
             ],
             [
              0.7777777777777778,
              "#fb9f3a"
             ],
             [
              0.8888888888888888,
              "#fdca26"
             ],
             [
              1,
              "#f0f921"
             ]
            ],
            "type": "surface"
           }
          ],
          "table": [
           {
            "cells": {
             "fill": {
              "color": "#EBF0F8"
             },
             "line": {
              "color": "white"
             }
            },
            "header": {
             "fill": {
              "color": "#C8D4E3"
             },
             "line": {
              "color": "white"
             }
            },
            "type": "table"
           }
          ]
         },
         "layout": {
          "annotationdefaults": {
           "arrowcolor": "#2a3f5f",
           "arrowhead": 0,
           "arrowwidth": 1
          },
          "autotypenumbers": "strict",
          "coloraxis": {
           "colorbar": {
            "outlinewidth": 0,
            "ticks": ""
           }
          },
          "colorscale": {
           "diverging": [
            [
             0,
             "#8e0152"
            ],
            [
             0.1,
             "#c51b7d"
            ],
            [
             0.2,
             "#de77ae"
            ],
            [
             0.3,
             "#f1b6da"
            ],
            [
             0.4,
             "#fde0ef"
            ],
            [
             0.5,
             "#f7f7f7"
            ],
            [
             0.6,
             "#e6f5d0"
            ],
            [
             0.7,
             "#b8e186"
            ],
            [
             0.8,
             "#7fbc41"
            ],
            [
             0.9,
             "#4d9221"
            ],
            [
             1,
             "#276419"
            ]
           ],
           "sequential": [
            [
             0,
             "#0d0887"
            ],
            [
             0.1111111111111111,
             "#46039f"
            ],
            [
             0.2222222222222222,
             "#7201a8"
            ],
            [
             0.3333333333333333,
             "#9c179e"
            ],
            [
             0.4444444444444444,
             "#bd3786"
            ],
            [
             0.5555555555555556,
             "#d8576b"
            ],
            [
             0.6666666666666666,
             "#ed7953"
            ],
            [
             0.7777777777777778,
             "#fb9f3a"
            ],
            [
             0.8888888888888888,
             "#fdca26"
            ],
            [
             1,
             "#f0f921"
            ]
           ],
           "sequentialminus": [
            [
             0,
             "#0d0887"
            ],
            [
             0.1111111111111111,
             "#46039f"
            ],
            [
             0.2222222222222222,
             "#7201a8"
            ],
            [
             0.3333333333333333,
             "#9c179e"
            ],
            [
             0.4444444444444444,
             "#bd3786"
            ],
            [
             0.5555555555555556,
             "#d8576b"
            ],
            [
             0.6666666666666666,
             "#ed7953"
            ],
            [
             0.7777777777777778,
             "#fb9f3a"
            ],
            [
             0.8888888888888888,
             "#fdca26"
            ],
            [
             1,
             "#f0f921"
            ]
           ]
          },
          "colorway": [
           "#636efa",
           "#EF553B",
           "#00cc96",
           "#ab63fa",
           "#FFA15A",
           "#19d3f3",
           "#FF6692",
           "#B6E880",
           "#FF97FF",
           "#FECB52"
          ],
          "font": {
           "color": "#2a3f5f"
          },
          "geo": {
           "bgcolor": "white",
           "lakecolor": "white",
           "landcolor": "#E5ECF6",
           "showlakes": true,
           "showland": true,
           "subunitcolor": "white"
          },
          "hoverlabel": {
           "align": "left"
          },
          "hovermode": "closest",
          "mapbox": {
           "style": "light"
          },
          "paper_bgcolor": "white",
          "plot_bgcolor": "#E5ECF6",
          "polar": {
           "angularaxis": {
            "gridcolor": "white",
            "linecolor": "white",
            "ticks": ""
           },
           "bgcolor": "#E5ECF6",
           "radialaxis": {
            "gridcolor": "white",
            "linecolor": "white",
            "ticks": ""
           }
          },
          "scene": {
           "xaxis": {
            "backgroundcolor": "#E5ECF6",
            "gridcolor": "white",
            "gridwidth": 2,
            "linecolor": "white",
            "showbackground": true,
            "ticks": "",
            "zerolinecolor": "white"
           },
           "yaxis": {
            "backgroundcolor": "#E5ECF6",
            "gridcolor": "white",
            "gridwidth": 2,
            "linecolor": "white",
            "showbackground": true,
            "ticks": "",
            "zerolinecolor": "white"
           },
           "zaxis": {
            "backgroundcolor": "#E5ECF6",
            "gridcolor": "white",
            "gridwidth": 2,
            "linecolor": "white",
            "showbackground": true,
            "ticks": "",
            "zerolinecolor": "white"
           }
          },
          "shapedefaults": {
           "line": {
            "color": "#2a3f5f"
           }
          },
          "ternary": {
           "aaxis": {
            "gridcolor": "white",
            "linecolor": "white",
            "ticks": ""
           },
           "baxis": {
            "gridcolor": "white",
            "linecolor": "white",
            "ticks": ""
           },
           "bgcolor": "#E5ECF6",
           "caxis": {
            "gridcolor": "white",
            "linecolor": "white",
            "ticks": ""
           }
          },
          "title": {
           "x": 0.05
          },
          "xaxis": {
           "automargin": true,
           "gridcolor": "white",
           "linecolor": "white",
           "ticks": "",
           "title": {
            "standoff": 15
           },
           "zerolinecolor": "white",
           "zerolinewidth": 2
          },
          "yaxis": {
           "automargin": true,
           "gridcolor": "white",
           "linecolor": "white",
           "ticks": "",
           "title": {
            "standoff": 15
           },
           "zerolinecolor": "white",
           "zerolinewidth": 2
          }
         }
        },
        "title": {
         "text": "For Positive Strand"
        },
        "xaxis": {
         "title": {
          "text": "Sequence Position"
         }
        },
        "yaxis": {
         "title": {
          "text": "IPD/Methylation Value"
         }
        }
       }
      }
     },
     "metadata": {},
     "output_type": "display_data"
    }
   ],
   "source": [
    "fig = go.Figure()\n",
    "fig.add_trace(go.Scatter(y=POSITIVE_TMEAN.flatten()[RANGE_START:RANGE_END],\n",
    "                    mode='lines',\n",
    "                    name='+IPDs'))\n",
    "fig.add_trace(go.Scatter(y=POSITIVE_FRAC.flatten()[RANGE_START:RANGE_END],\n",
    "                    mode='lines',\n",
    "                    name='+Methylation'))\n",
    "\n",
    "\n",
    "for key, value in converted_predictions.items():\n",
    "    fig.add_trace(go.Bar(\n",
    "        y=converted_predictions[key][RANGE_START:RANGE_END],\n",
    "        name=\"State {}\".format(key),\n",
    "        width=0.8,\n",
    "        marker_color=BAR_COLORS[key]\n",
    "    ))\n",
    "\n",
    "fig.update_layout(\n",
    "    title=\"For Positive Strand\",\n",
    "    xaxis_title='Sequence Position',\n",
    "    yaxis_title='IPD/Methylation Value',\n",
    "    bargap=0,)\n",
    "fig.show()"
   ]
  },
  {
   "cell_type": "code",
   "execution_count": 332,
   "metadata": {},
   "outputs": [
    {
     "data": {
      "application/vnd.plotly.v1+json": {
       "config": {
        "plotlyServerURL": "https://plot.ly"
       },
       "data": [
        {
         "mode": "lines",
         "name": "+IPDs",
         "type": "scatter",
         "y": [
          0.693,
          1.106,
          0.576,
          1.401,
          3.031,
          0.999,
          0.72,
          0.922,
          1.428,
          1.063,
          1.809,
          0.911,
          0.754,
          2.638,
          1.365,
          0.962,
          0.537,
          0.824,
          0.837,
          0.701,
          0.475,
          1.214,
          0.649,
          0.73,
          0.876,
          1.01,
          0.98,
          0.644,
          0.778,
          0.653,
          0.788,
          1.403,
          5.811,
          1.251,
          1.08,
          1.211,
          1.712,
          0.532,
          0.819,
          0.831,
          0.869,
          1.541,
          0.642,
          0.865,
          1.066,
          0.632,
          0.6,
          0.574,
          0.611,
          0.554,
          0.639,
          1.664,
          0.811,
          0.513,
          0.899,
          0.657,
          1.16,
          0.412,
          0.859,
          0.628,
          0.805,
          0.628,
          0.902,
          0.652,
          0.579,
          1.095,
          1.112,
          0.602,
          0.967,
          1.866,
          1.033,
          1.12,
          0.599,
          0.98,
          1.079,
          1.318,
          2.964,
          0.558,
          0.749,
          0.69,
          0.617,
          0.439,
          0.333,
          1.954,
          1.006,
          1.259,
          0.624,
          1.721,
          0.786,
          0.596,
          0.694,
          0.514,
          0.612,
          1.192,
          0.61,
          0.847,
          2.254,
          0.844,
          0.685,
          0.49,
          1.155,
          0.798,
          0.564,
          1.083,
          0.613,
          0.933,
          1.077,
          1.081,
          0.763,
          0.768,
          0.849,
          1.811,
          1.661,
          2.372,
          1.975,
          1.247,
          1.587,
          3.404,
          1.026,
          0.738,
          2.286,
          0.931,
          0.594,
          0.45,
          0.795,
          0.986,
          0.823,
          0.934,
          1.413,
          0.617,
          0.662,
          0.44,
          1.029,
          0.96,
          0.62,
          0.9,
          5.027,
          1.418,
          1.415,
          1.905,
          0.883,
          1.31,
          1.587,
          0.977,
          1.192,
          0.896,
          0.726,
          2.531,
          0.696,
          1.135,
          0.718,
          0.832,
          0.969,
          1.339,
          0.849,
          1.542,
          1.119,
          1.78,
          0.483,
          0.826,
          0.839,
          0.827,
          0.858,
          1.249,
          0.842,
          1.295,
          0.91,
          0.823,
          1.843,
          5.812,
          1.661,
          2.803,
          2.44,
          1.102,
          0.77,
          1.831,
          0.928,
          0.706,
          1.047,
          0.853,
          0.773,
          0.671,
          0.501,
          0.82,
          0.918,
          0.662,
          0.799,
          0.442,
          0.828,
          1.467,
          0.602,
          0.719,
          1.397,
          0.564,
          0.734,
          5.767,
          0.846,
          3.067,
          1.448,
          1.619,
          0.735,
          0.707,
          0.627,
          0.58,
          0.816,
          0.753,
          1.241,
          0.855,
          0.676,
          0.809,
          0.691,
          0.642,
          0.817,
          0.654,
          0.539,
          0.675,
          0.758,
          1.138,
          0.793,
          0.665,
          0.782,
          0.584,
          0.699,
          0.746,
          1.087,
          1.231,
          0.679,
          1.061,
          0.734,
          1.11,
          0.701,
          0.774,
          0.65,
          0.584,
          0.785,
          0.839,
          0.973,
          0.855,
          0.916,
          0.927,
          0.949,
          0.932,
          0.456,
          0.752,
          0.777,
          1.367,
          2.485,
          1.033,
          0.638,
          0.844
         ]
        },
        {
         "mode": "lines",
         "name": "+Methylation",
         "type": "scatter",
         "y": [
          0,
          0,
          0,
          0,
          0,
          0,
          0,
          0,
          0,
          0,
          0,
          0,
          0,
          0.634,
          0,
          0,
          0,
          0,
          0,
          0,
          0,
          0,
          0,
          0,
          0,
          0,
          0,
          0,
          0,
          0,
          0,
          0,
          0,
          0,
          0,
          0,
          0,
          0,
          0,
          0,
          0,
          0,
          0,
          0,
          0,
          0,
          0,
          0,
          0,
          0,
          0,
          0,
          0,
          0,
          0,
          0,
          0,
          0,
          0,
          0,
          0,
          0,
          0,
          0,
          0,
          0,
          0,
          0,
          0,
          0,
          0,
          0,
          0,
          0,
          0,
          0,
          0,
          0,
          0,
          0,
          0,
          0,
          0,
          0,
          0,
          0,
          0,
          0,
          0,
          0,
          0,
          0,
          0,
          0,
          0,
          0,
          0,
          0,
          0,
          0,
          0,
          0,
          0,
          0,
          0,
          0,
          0,
          0,
          0,
          0,
          0,
          0,
          0,
          0,
          0,
          0,
          0,
          0,
          0,
          0,
          0,
          0,
          0,
          0,
          0,
          0,
          0,
          0,
          0,
          0,
          0,
          0,
          0,
          0,
          0,
          0,
          0,
          0,
          0.457,
          0,
          0,
          0,
          0,
          0,
          0,
          0,
          0,
          0,
          0,
          0,
          0,
          0,
          0,
          0,
          0,
          0,
          0,
          0,
          0,
          0,
          0,
          0,
          0,
          0,
          0,
          0,
          0,
          0,
          0,
          0.972,
          0,
          0,
          0,
          0,
          0,
          0,
          0,
          0,
          0,
          0,
          0,
          0,
          0,
          0,
          0,
          0,
          0,
          0,
          0,
          0,
          0,
          0,
          0,
          0,
          0,
          0,
          0,
          0,
          0,
          0,
          0,
          0,
          0,
          0,
          0,
          0,
          0,
          0,
          0,
          0,
          0,
          0,
          0,
          0,
          0,
          0,
          0,
          0,
          0,
          0,
          0,
          0,
          0,
          0,
          0,
          0,
          0,
          0,
          0,
          0,
          0,
          0,
          0,
          0,
          0,
          0,
          0,
          0,
          0,
          0,
          0,
          0,
          0,
          0,
          0,
          0,
          0,
          0,
          0,
          0
         ]
        },
        {
         "marker": {
          "color": "#e6194B"
         },
         "name": "State 0",
         "type": "bar",
         "width": 0.8,
         "y": [
          0,
          0,
          0,
          0,
          0,
          0,
          0,
          0,
          0,
          0,
          0,
          0,
          0,
          0,
          0,
          0,
          0,
          0,
          0,
          0,
          0,
          0,
          0,
          0,
          0,
          0,
          0,
          0,
          0,
          0,
          0,
          0,
          0,
          0,
          0,
          0,
          0,
          0,
          0,
          0,
          0,
          0,
          0,
          0,
          0,
          0,
          0,
          0,
          0,
          0,
          0,
          0,
          0,
          0,
          0,
          0,
          0,
          0,
          0,
          0,
          0,
          0,
          0,
          0,
          0,
          0,
          0,
          0,
          0,
          0,
          0,
          0,
          0,
          0,
          0,
          0,
          0,
          0,
          0,
          0,
          0,
          0,
          0,
          0,
          0,
          0,
          0,
          0,
          0,
          0,
          0,
          0,
          0,
          0,
          0,
          0,
          0,
          0,
          0,
          0,
          0,
          0,
          0,
          0,
          0,
          0,
          0,
          0,
          0,
          0,
          0,
          0,
          0,
          0,
          0,
          0,
          0,
          0,
          0,
          0,
          0,
          0,
          0,
          0,
          0,
          0,
          0,
          0,
          0,
          0,
          0,
          0,
          0,
          0,
          0,
          0,
          0,
          0,
          0,
          0,
          0,
          0,
          0,
          0,
          0,
          0,
          0,
          0,
          0,
          0,
          0,
          0,
          0,
          0,
          0,
          0,
          0,
          0,
          0,
          0,
          0,
          0,
          0,
          0,
          0,
          0,
          0,
          0,
          0,
          0,
          0,
          0,
          0,
          0,
          0,
          0,
          0,
          0,
          0,
          0,
          0,
          0,
          0,
          0,
          0,
          0,
          0,
          0,
          0,
          0,
          0,
          0,
          0,
          0,
          0,
          0,
          0,
          0,
          0,
          0,
          0,
          0,
          0,
          0,
          0,
          0,
          0,
          0,
          0,
          0,
          0,
          0,
          0,
          0,
          0,
          0,
          0,
          0,
          0,
          0,
          0,
          0,
          0,
          0,
          0,
          0,
          0,
          0,
          0,
          0,
          0,
          0,
          0,
          0,
          0,
          0,
          0,
          0,
          0,
          0,
          0,
          0,
          0,
          0,
          0,
          0,
          0,
          0,
          0,
          0
         ]
        },
        {
         "marker": {
          "color": "#3cb44b"
         },
         "name": "State 1",
         "type": "bar",
         "width": 0.8,
         "y": [
          0,
          0,
          0,
          -1.5,
          0,
          0,
          -1.5,
          0,
          0,
          -1.5,
          -1.5,
          0,
          0,
          0,
          0,
          -1.5,
          -1.5,
          0,
          0,
          0,
          -1.5,
          0,
          0,
          0,
          0,
          0,
          0,
          0,
          0,
          0,
          0,
          0,
          0,
          0,
          0,
          0,
          0,
          0,
          0,
          0,
          0,
          0,
          -1.5,
          0,
          0,
          0,
          0,
          0,
          0,
          0,
          0,
          0,
          -1.5,
          0,
          0,
          0,
          0,
          0,
          0,
          0,
          0,
          -1.5,
          0,
          0,
          -1.5,
          -1.5,
          0,
          0,
          0,
          -1.5,
          0,
          0,
          0,
          0,
          0,
          0,
          0,
          0,
          0,
          0,
          0,
          -1.5,
          -1.5,
          0,
          0,
          0,
          0,
          0,
          0,
          -1.5,
          0,
          0,
          -1.5,
          0,
          0,
          0,
          0,
          0,
          0,
          0,
          0,
          -1.5,
          0,
          0,
          0,
          0,
          0,
          -1.5,
          0,
          -1.5,
          0,
          0,
          0,
          0,
          -1.5,
          -1.5,
          0,
          0,
          -1.5,
          -1.5,
          0,
          0,
          -1.5,
          -1.5,
          0,
          0,
          -1.5,
          -1.5,
          0,
          0,
          0,
          -1.5,
          0,
          0,
          -1.5,
          -1.5,
          0,
          0,
          0,
          -1.5,
          0,
          -1.5,
          0,
          0,
          0,
          0,
          0,
          0,
          0,
          -1.5,
          0,
          -1.5,
          0,
          -1.5,
          -1.5,
          0,
          0,
          0,
          0,
          0,
          0,
          0,
          0,
          -1.5,
          0,
          0,
          0,
          0,
          -1.5,
          -1.5,
          0,
          -1.5,
          -1.5,
          -1.5,
          -1.5,
          0,
          -1.5,
          0,
          0,
          0,
          0,
          0,
          -1.5,
          0,
          -1.5,
          0,
          0,
          0,
          0,
          0,
          0,
          0,
          0,
          0,
          0,
          0,
          0,
          0,
          0,
          0,
          0,
          0,
          0,
          -1.5,
          -1.5,
          0,
          0,
          0,
          0,
          0,
          0,
          0,
          0,
          0,
          0,
          0,
          0,
          0,
          0,
          0,
          0,
          0,
          0,
          0,
          -1.5,
          0,
          0,
          0,
          0,
          0,
          0,
          0,
          0,
          0,
          0,
          0,
          0,
          0,
          0,
          0,
          0,
          0,
          0,
          0,
          0,
          0,
          0,
          0,
          0,
          0
         ]
        },
        {
         "marker": {
          "color": "#42d4f4"
         },
         "name": "State 2",
         "type": "bar",
         "width": 0.8,
         "y": [
          0,
          0,
          0,
          0,
          0,
          0,
          0,
          0,
          0,
          0,
          0,
          0,
          0,
          0,
          0,
          0,
          0,
          0,
          0,
          0,
          0,
          0,
          0,
          0,
          0,
          0,
          0,
          0,
          0,
          0,
          0,
          0,
          0,
          0,
          0,
          0,
          0,
          0,
          0,
          0,
          0,
          0,
          0,
          0,
          0,
          0,
          0,
          0,
          0,
          0,
          0,
          0,
          0,
          0,
          0,
          0,
          0,
          0,
          0,
          0,
          0,
          0,
          0,
          0,
          0,
          0,
          0,
          0,
          0,
          0,
          0,
          0,
          0,
          0,
          0,
          0,
          0,
          0,
          0,
          0,
          0,
          0,
          0,
          0,
          0,
          0,
          0,
          0,
          0,
          0,
          0,
          0,
          0,
          0,
          0,
          0,
          0,
          0,
          0,
          0,
          0,
          0,
          0,
          0,
          0,
          0,
          0,
          0,
          0,
          0,
          0,
          0,
          0,
          0,
          0,
          0,
          0,
          0,
          0,
          0,
          0,
          0,
          0,
          0,
          0,
          0,
          0,
          0,
          0,
          0,
          0,
          0,
          0,
          0,
          0,
          0,
          0,
          0,
          -1.5,
          0,
          0,
          0,
          0,
          0,
          0,
          0,
          0,
          0,
          0,
          0,
          0,
          0,
          -1.5,
          0,
          0,
          0,
          0,
          0,
          0,
          0,
          0,
          0,
          0,
          0,
          0,
          0,
          0,
          0,
          0,
          0,
          -1.5,
          0,
          0,
          0,
          0,
          0,
          0,
          0,
          0,
          0,
          0,
          0,
          0,
          0,
          0,
          0,
          0,
          0,
          0,
          0,
          0,
          0,
          0,
          0,
          0,
          0,
          0,
          0,
          0,
          0,
          0,
          0,
          -1.5,
          0,
          0,
          0,
          0,
          0,
          0,
          0,
          0,
          0,
          0,
          0,
          0,
          0,
          0,
          0,
          0,
          0,
          0,
          0,
          0,
          0,
          0,
          0,
          0,
          0,
          0,
          0,
          0,
          0,
          0,
          0,
          0,
          0,
          0,
          0,
          0,
          0,
          0,
          0,
          0,
          0,
          0,
          0,
          0,
          0,
          0,
          0
         ]
        },
        {
         "marker": {
          "color": "#911eb4"
         },
         "name": "State 3",
         "type": "bar",
         "width": 0.8,
         "y": [
          -1.5,
          -1.5,
          -1.5,
          0,
          -1.5,
          -1.5,
          0,
          -1.5,
          -1.5,
          0,
          0,
          -1.5,
          -1.5,
          -1.5,
          -1.5,
          0,
          0,
          -1.5,
          -1.5,
          -1.5,
          0,
          -1.5,
          -1.5,
          -1.5,
          -1.5,
          -1.5,
          -1.5,
          -1.5,
          -1.5,
          -1.5,
          -1.5,
          -1.5,
          -1.5,
          -1.5,
          -1.5,
          -1.5,
          -1.5,
          -1.5,
          -1.5,
          -1.5,
          -1.5,
          -1.5,
          0,
          -1.5,
          -1.5,
          -1.5,
          -1.5,
          -1.5,
          -1.5,
          -1.5,
          -1.5,
          -1.5,
          0,
          -1.5,
          -1.5,
          -1.5,
          -1.5,
          -1.5,
          -1.5,
          -1.5,
          -1.5,
          0,
          -1.5,
          -1.5,
          0,
          0,
          -1.5,
          -1.5,
          -1.5,
          0,
          -1.5,
          -1.5,
          -1.5,
          -1.5,
          -1.5,
          -1.5,
          -1.5,
          -1.5,
          -1.5,
          -1.5,
          -1.5,
          0,
          0,
          -1.5,
          -1.5,
          -1.5,
          -1.5,
          -1.5,
          -1.5,
          0,
          -1.5,
          -1.5,
          0,
          -1.5,
          -1.5,
          -1.5,
          -1.5,
          -1.5,
          -1.5,
          -1.5,
          -1.5,
          0,
          -1.5,
          -1.5,
          -1.5,
          -1.5,
          -1.5,
          0,
          -1.5,
          0,
          -1.5,
          -1.5,
          -1.5,
          -1.5,
          0,
          0,
          -1.5,
          -1.5,
          0,
          0,
          -1.5,
          -1.5,
          0,
          0,
          -1.5,
          -1.5,
          0,
          0,
          -1.5,
          -1.5,
          -1.5,
          0,
          -1.5,
          -1.5,
          0,
          0,
          -1.5,
          -1.5,
          0,
          0,
          -1.5,
          0,
          -1.5,
          -1.5,
          -1.5,
          -1.5,
          -1.5,
          -1.5,
          -1.5,
          0,
          -1.5,
          0,
          0,
          0,
          0,
          -1.5,
          -1.5,
          -1.5,
          -1.5,
          -1.5,
          -1.5,
          -1.5,
          -1.5,
          0,
          -1.5,
          -1.5,
          -1.5,
          -1.5,
          0,
          0,
          0,
          0,
          0,
          0,
          0,
          -1.5,
          0,
          -1.5,
          -1.5,
          -1.5,
          -1.5,
          -1.5,
          0,
          -1.5,
          0,
          -1.5,
          -1.5,
          -1.5,
          -1.5,
          -1.5,
          -1.5,
          -1.5,
          -1.5,
          -1.5,
          -1.5,
          -1.5,
          -1.5,
          -1.5,
          -1.5,
          -1.5,
          -1.5,
          -1.5,
          0,
          0,
          0,
          -1.5,
          -1.5,
          -1.5,
          -1.5,
          -1.5,
          -1.5,
          -1.5,
          -1.5,
          -1.5,
          -1.5,
          -1.5,
          -1.5,
          -1.5,
          -1.5,
          -1.5,
          -1.5,
          -1.5,
          -1.5,
          -1.5,
          0,
          -1.5,
          -1.5,
          -1.5,
          -1.5,
          -1.5,
          -1.5,
          -1.5,
          -1.5,
          -1.5,
          -1.5,
          -1.5,
          -1.5,
          -1.5,
          -1.5,
          -1.5,
          -1.5,
          -1.5,
          -1.5,
          -1.5,
          -1.5,
          -1.5,
          -1.5,
          -1.5,
          -1.5,
          -1.5
         ]
        }
       ],
       "layout": {
        "bargap": 0,
        "template": {
         "data": {
          "bar": [
           {
            "error_x": {
             "color": "#2a3f5f"
            },
            "error_y": {
             "color": "#2a3f5f"
            },
            "marker": {
             "line": {
              "color": "#E5ECF6",
              "width": 0.5
             },
             "pattern": {
              "fillmode": "overlay",
              "size": 10,
              "solidity": 0.2
             }
            },
            "type": "bar"
           }
          ],
          "barpolar": [
           {
            "marker": {
             "line": {
              "color": "#E5ECF6",
              "width": 0.5
             },
             "pattern": {
              "fillmode": "overlay",
              "size": 10,
              "solidity": 0.2
             }
            },
            "type": "barpolar"
           }
          ],
          "carpet": [
           {
            "aaxis": {
             "endlinecolor": "#2a3f5f",
             "gridcolor": "white",
             "linecolor": "white",
             "minorgridcolor": "white",
             "startlinecolor": "#2a3f5f"
            },
            "baxis": {
             "endlinecolor": "#2a3f5f",
             "gridcolor": "white",
             "linecolor": "white",
             "minorgridcolor": "white",
             "startlinecolor": "#2a3f5f"
            },
            "type": "carpet"
           }
          ],
          "choropleth": [
           {
            "colorbar": {
             "outlinewidth": 0,
             "ticks": ""
            },
            "type": "choropleth"
           }
          ],
          "contour": [
           {
            "colorbar": {
             "outlinewidth": 0,
             "ticks": ""
            },
            "colorscale": [
             [
              0,
              "#0d0887"
             ],
             [
              0.1111111111111111,
              "#46039f"
             ],
             [
              0.2222222222222222,
              "#7201a8"
             ],
             [
              0.3333333333333333,
              "#9c179e"
             ],
             [
              0.4444444444444444,
              "#bd3786"
             ],
             [
              0.5555555555555556,
              "#d8576b"
             ],
             [
              0.6666666666666666,
              "#ed7953"
             ],
             [
              0.7777777777777778,
              "#fb9f3a"
             ],
             [
              0.8888888888888888,
              "#fdca26"
             ],
             [
              1,
              "#f0f921"
             ]
            ],
            "type": "contour"
           }
          ],
          "contourcarpet": [
           {
            "colorbar": {
             "outlinewidth": 0,
             "ticks": ""
            },
            "type": "contourcarpet"
           }
          ],
          "heatmap": [
           {
            "colorbar": {
             "outlinewidth": 0,
             "ticks": ""
            },
            "colorscale": [
             [
              0,
              "#0d0887"
             ],
             [
              0.1111111111111111,
              "#46039f"
             ],
             [
              0.2222222222222222,
              "#7201a8"
             ],
             [
              0.3333333333333333,
              "#9c179e"
             ],
             [
              0.4444444444444444,
              "#bd3786"
             ],
             [
              0.5555555555555556,
              "#d8576b"
             ],
             [
              0.6666666666666666,
              "#ed7953"
             ],
             [
              0.7777777777777778,
              "#fb9f3a"
             ],
             [
              0.8888888888888888,
              "#fdca26"
             ],
             [
              1,
              "#f0f921"
             ]
            ],
            "type": "heatmap"
           }
          ],
          "heatmapgl": [
           {
            "colorbar": {
             "outlinewidth": 0,
             "ticks": ""
            },
            "colorscale": [
             [
              0,
              "#0d0887"
             ],
             [
              0.1111111111111111,
              "#46039f"
             ],
             [
              0.2222222222222222,
              "#7201a8"
             ],
             [
              0.3333333333333333,
              "#9c179e"
             ],
             [
              0.4444444444444444,
              "#bd3786"
             ],
             [
              0.5555555555555556,
              "#d8576b"
             ],
             [
              0.6666666666666666,
              "#ed7953"
             ],
             [
              0.7777777777777778,
              "#fb9f3a"
             ],
             [
              0.8888888888888888,
              "#fdca26"
             ],
             [
              1,
              "#f0f921"
             ]
            ],
            "type": "heatmapgl"
           }
          ],
          "histogram": [
           {
            "marker": {
             "pattern": {
              "fillmode": "overlay",
              "size": 10,
              "solidity": 0.2
             }
            },
            "type": "histogram"
           }
          ],
          "histogram2d": [
           {
            "colorbar": {
             "outlinewidth": 0,
             "ticks": ""
            },
            "colorscale": [
             [
              0,
              "#0d0887"
             ],
             [
              0.1111111111111111,
              "#46039f"
             ],
             [
              0.2222222222222222,
              "#7201a8"
             ],
             [
              0.3333333333333333,
              "#9c179e"
             ],
             [
              0.4444444444444444,
              "#bd3786"
             ],
             [
              0.5555555555555556,
              "#d8576b"
             ],
             [
              0.6666666666666666,
              "#ed7953"
             ],
             [
              0.7777777777777778,
              "#fb9f3a"
             ],
             [
              0.8888888888888888,
              "#fdca26"
             ],
             [
              1,
              "#f0f921"
             ]
            ],
            "type": "histogram2d"
           }
          ],
          "histogram2dcontour": [
           {
            "colorbar": {
             "outlinewidth": 0,
             "ticks": ""
            },
            "colorscale": [
             [
              0,
              "#0d0887"
             ],
             [
              0.1111111111111111,
              "#46039f"
             ],
             [
              0.2222222222222222,
              "#7201a8"
             ],
             [
              0.3333333333333333,
              "#9c179e"
             ],
             [
              0.4444444444444444,
              "#bd3786"
             ],
             [
              0.5555555555555556,
              "#d8576b"
             ],
             [
              0.6666666666666666,
              "#ed7953"
             ],
             [
              0.7777777777777778,
              "#fb9f3a"
             ],
             [
              0.8888888888888888,
              "#fdca26"
             ],
             [
              1,
              "#f0f921"
             ]
            ],
            "type": "histogram2dcontour"
           }
          ],
          "mesh3d": [
           {
            "colorbar": {
             "outlinewidth": 0,
             "ticks": ""
            },
            "type": "mesh3d"
           }
          ],
          "parcoords": [
           {
            "line": {
             "colorbar": {
              "outlinewidth": 0,
              "ticks": ""
             }
            },
            "type": "parcoords"
           }
          ],
          "pie": [
           {
            "automargin": true,
            "type": "pie"
           }
          ],
          "scatter": [
           {
            "marker": {
             "colorbar": {
              "outlinewidth": 0,
              "ticks": ""
             }
            },
            "type": "scatter"
           }
          ],
          "scatter3d": [
           {
            "line": {
             "colorbar": {
              "outlinewidth": 0,
              "ticks": ""
             }
            },
            "marker": {
             "colorbar": {
              "outlinewidth": 0,
              "ticks": ""
             }
            },
            "type": "scatter3d"
           }
          ],
          "scattercarpet": [
           {
            "marker": {
             "colorbar": {
              "outlinewidth": 0,
              "ticks": ""
             }
            },
            "type": "scattercarpet"
           }
          ],
          "scattergeo": [
           {
            "marker": {
             "colorbar": {
              "outlinewidth": 0,
              "ticks": ""
             }
            },
            "type": "scattergeo"
           }
          ],
          "scattergl": [
           {
            "marker": {
             "colorbar": {
              "outlinewidth": 0,
              "ticks": ""
             }
            },
            "type": "scattergl"
           }
          ],
          "scattermapbox": [
           {
            "marker": {
             "colorbar": {
              "outlinewidth": 0,
              "ticks": ""
             }
            },
            "type": "scattermapbox"
           }
          ],
          "scatterpolar": [
           {
            "marker": {
             "colorbar": {
              "outlinewidth": 0,
              "ticks": ""
             }
            },
            "type": "scatterpolar"
           }
          ],
          "scatterpolargl": [
           {
            "marker": {
             "colorbar": {
              "outlinewidth": 0,
              "ticks": ""
             }
            },
            "type": "scatterpolargl"
           }
          ],
          "scatterternary": [
           {
            "marker": {
             "colorbar": {
              "outlinewidth": 0,
              "ticks": ""
             }
            },
            "type": "scatterternary"
           }
          ],
          "surface": [
           {
            "colorbar": {
             "outlinewidth": 0,
             "ticks": ""
            },
            "colorscale": [
             [
              0,
              "#0d0887"
             ],
             [
              0.1111111111111111,
              "#46039f"
             ],
             [
              0.2222222222222222,
              "#7201a8"
             ],
             [
              0.3333333333333333,
              "#9c179e"
             ],
             [
              0.4444444444444444,
              "#bd3786"
             ],
             [
              0.5555555555555556,
              "#d8576b"
             ],
             [
              0.6666666666666666,
              "#ed7953"
             ],
             [
              0.7777777777777778,
              "#fb9f3a"
             ],
             [
              0.8888888888888888,
              "#fdca26"
             ],
             [
              1,
              "#f0f921"
             ]
            ],
            "type": "surface"
           }
          ],
          "table": [
           {
            "cells": {
             "fill": {
              "color": "#EBF0F8"
             },
             "line": {
              "color": "white"
             }
            },
            "header": {
             "fill": {
              "color": "#C8D4E3"
             },
             "line": {
              "color": "white"
             }
            },
            "type": "table"
           }
          ]
         },
         "layout": {
          "annotationdefaults": {
           "arrowcolor": "#2a3f5f",
           "arrowhead": 0,
           "arrowwidth": 1
          },
          "autotypenumbers": "strict",
          "coloraxis": {
           "colorbar": {
            "outlinewidth": 0,
            "ticks": ""
           }
          },
          "colorscale": {
           "diverging": [
            [
             0,
             "#8e0152"
            ],
            [
             0.1,
             "#c51b7d"
            ],
            [
             0.2,
             "#de77ae"
            ],
            [
             0.3,
             "#f1b6da"
            ],
            [
             0.4,
             "#fde0ef"
            ],
            [
             0.5,
             "#f7f7f7"
            ],
            [
             0.6,
             "#e6f5d0"
            ],
            [
             0.7,
             "#b8e186"
            ],
            [
             0.8,
             "#7fbc41"
            ],
            [
             0.9,
             "#4d9221"
            ],
            [
             1,
             "#276419"
            ]
           ],
           "sequential": [
            [
             0,
             "#0d0887"
            ],
            [
             0.1111111111111111,
             "#46039f"
            ],
            [
             0.2222222222222222,
             "#7201a8"
            ],
            [
             0.3333333333333333,
             "#9c179e"
            ],
            [
             0.4444444444444444,
             "#bd3786"
            ],
            [
             0.5555555555555556,
             "#d8576b"
            ],
            [
             0.6666666666666666,
             "#ed7953"
            ],
            [
             0.7777777777777778,
             "#fb9f3a"
            ],
            [
             0.8888888888888888,
             "#fdca26"
            ],
            [
             1,
             "#f0f921"
            ]
           ],
           "sequentialminus": [
            [
             0,
             "#0d0887"
            ],
            [
             0.1111111111111111,
             "#46039f"
            ],
            [
             0.2222222222222222,
             "#7201a8"
            ],
            [
             0.3333333333333333,
             "#9c179e"
            ],
            [
             0.4444444444444444,
             "#bd3786"
            ],
            [
             0.5555555555555556,
             "#d8576b"
            ],
            [
             0.6666666666666666,
             "#ed7953"
            ],
            [
             0.7777777777777778,
             "#fb9f3a"
            ],
            [
             0.8888888888888888,
             "#fdca26"
            ],
            [
             1,
             "#f0f921"
            ]
           ]
          },
          "colorway": [
           "#636efa",
           "#EF553B",
           "#00cc96",
           "#ab63fa",
           "#FFA15A",
           "#19d3f3",
           "#FF6692",
           "#B6E880",
           "#FF97FF",
           "#FECB52"
          ],
          "font": {
           "color": "#2a3f5f"
          },
          "geo": {
           "bgcolor": "white",
           "lakecolor": "white",
           "landcolor": "#E5ECF6",
           "showlakes": true,
           "showland": true,
           "subunitcolor": "white"
          },
          "hoverlabel": {
           "align": "left"
          },
          "hovermode": "closest",
          "mapbox": {
           "style": "light"
          },
          "paper_bgcolor": "white",
          "plot_bgcolor": "#E5ECF6",
          "polar": {
           "angularaxis": {
            "gridcolor": "white",
            "linecolor": "white",
            "ticks": ""
           },
           "bgcolor": "#E5ECF6",
           "radialaxis": {
            "gridcolor": "white",
            "linecolor": "white",
            "ticks": ""
           }
          },
          "scene": {
           "xaxis": {
            "backgroundcolor": "#E5ECF6",
            "gridcolor": "white",
            "gridwidth": 2,
            "linecolor": "white",
            "showbackground": true,
            "ticks": "",
            "zerolinecolor": "white"
           },
           "yaxis": {
            "backgroundcolor": "#E5ECF6",
            "gridcolor": "white",
            "gridwidth": 2,
            "linecolor": "white",
            "showbackground": true,
            "ticks": "",
            "zerolinecolor": "white"
           },
           "zaxis": {
            "backgroundcolor": "#E5ECF6",
            "gridcolor": "white",
            "gridwidth": 2,
            "linecolor": "white",
            "showbackground": true,
            "ticks": "",
            "zerolinecolor": "white"
           }
          },
          "shapedefaults": {
           "line": {
            "color": "#2a3f5f"
           }
          },
          "ternary": {
           "aaxis": {
            "gridcolor": "white",
            "linecolor": "white",
            "ticks": ""
           },
           "baxis": {
            "gridcolor": "white",
            "linecolor": "white",
            "ticks": ""
           },
           "bgcolor": "#E5ECF6",
           "caxis": {
            "gridcolor": "white",
            "linecolor": "white",
            "ticks": ""
           }
          },
          "title": {
           "x": 0.05
          },
          "xaxis": {
           "automargin": true,
           "gridcolor": "white",
           "linecolor": "white",
           "ticks": "",
           "title": {
            "standoff": 15
           },
           "zerolinecolor": "white",
           "zerolinewidth": 2
          },
          "yaxis": {
           "automargin": true,
           "gridcolor": "white",
           "linecolor": "white",
           "ticks": "",
           "title": {
            "standoff": 15
           },
           "zerolinecolor": "white",
           "zerolinewidth": 2
          }
         }
        },
        "title": {
         "text": "For Negative Strand"
        },
        "xaxis": {
         "title": {
          "text": "Sequence Position"
         }
        },
        "yaxis": {
         "title": {
          "text": "IPD/Methylation Value"
         }
        }
       }
      }
     },
     "metadata": {},
     "output_type": "display_data"
    }
   ],
   "source": [
    "fig = go.Figure()\n",
    "fig.add_trace(go.Scatter(y=NEGATIVE_TMEAN.flatten()[RANGE_START:RANGE_END],\n",
    "                    mode='lines',\n",
    "                    name='+IPDs'))\n",
    "fig.add_trace(go.Scatter(y=NEGATIVE_FRAC.flatten()[RANGE_START:RANGE_END],\n",
    "                    mode='lines',\n",
    "                    name='+Methylation'))\n",
    "\n",
    "\n",
    "for key, value in converted_predictions.items():\n",
    "    fig.add_trace(go.Bar(\n",
    "        y=converted_predictions[key][RANGE_START:RANGE_END],\n",
    "        name=\"State {}\".format(key),\n",
    "        width=0.8,\n",
    "        marker_color=BAR_COLORS[key]\n",
    "    ))\n",
    "\n",
    "fig.update_layout(\n",
    "    title=\"For Negative Strand\",\n",
    "    xaxis_title='Sequence Position',\n",
    "    yaxis_title='IPD/Methylation Value',\n",
    "    bargap=0,)\n",
    "fig.show()"
   ]
  },
  {
   "cell_type": "markdown",
   "metadata": {},
   "source": [
    "### Recurrence Plot \n",
    "\n",
    "Recurrence quantification analysis"
   ]
  },
  {
   "cell_type": "code",
   "execution_count": 341,
   "metadata": {},
   "outputs": [],
   "source": [
    "# From https://github.com/laszukdawid/recurrence-plot\n",
    "from __future__ import division, print_function\n",
    "import numpy as np\n",
    "import pylab as plt\n",
    "from scipy.spatial.distance import pdist, squareform\n",
    "\n",
    "def rec_plot(s, eps=0.10, steps=10):\n",
    "    d = pdist(s[:,None])\n",
    "    d = np.floor(d/eps)\n",
    "    d[d>steps] = steps\n",
    "    Z = squareform(d)\n",
    "    return Z\n",
    "\n",
    "def moving_average(s, r=5):\n",
    "    return np.convolve(s, np.ones((r,))/r, mode='valid')\n"
   ]
  },
  {
   "cell_type": "code",
   "execution_count": 342,
   "metadata": {},
   "outputs": [
    {
     "data": {
      "image/png": "[encoded data removed]",
      "text/plain": [
       "<Figure size 432x288 with 1 Axes>"
      ]
     },
     "metadata": {
      "needs_background": "light"
     },
     "output_type": "display_data"
    }
   ],
   "source": [
    "sig = POSITIVE_TMEAN.flatten()[:100]\n",
    "rec = rec_plot(sig)\n",
    "plt.imshow(rec)\n",
    "plt.show()"
   ]
  },
  {
   "cell_type": "code",
   "execution_count": null,
   "metadata": {},
   "outputs": [],
   "source": []
  }
 ],
 "metadata": {
  "interpreter": {
   "hash": "9fb27f246a974b07d903088cb2226249d01ae4c707c3503890a928204029e034"
  },
  "kernelspec": {
   "display_name": "Python 3.9.4 64-bit",
   "language": "python",
   "name": "python3"
  },
  "language_info": {
   "codemirror_mode": {
    "name": "ipython",
    "version": 3
   },
   "file_extension": ".py",
   "mimetype": "text/x-python",
   "name": "python",
   "nbconvert_exporter": "python",
   "pygments_lexer": "ipython3",
   "version": "3.9.4"
  },
  "orig_nbformat": 4
 },
 "nbformat": 4,
 "nbformat_minor": 2
}
